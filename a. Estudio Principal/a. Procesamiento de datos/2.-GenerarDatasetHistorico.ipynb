{
 "cells": [
  {
   "cell_type": "code",
   "execution_count": 1,
   "metadata": {},
   "outputs": [],
   "source": [
    "import numpy as np\n",
    "import pandas as pd\n",
    "import matplotlib.pyplot as plt\n",
    "import geopandas as gpd\n",
    "import seaborn as sn\n",
    "import glob\n",
    "import os\n",
    "import sys\n",
    "\n",
    "import plotly.express as px\n",
    "import seaborn as sns"
   ]
  },
  {
   "cell_type": "markdown",
   "metadata": {},
   "source": [
    "# Definir carpetas y archivos a utilizar\n",
    "---\n",
    "Arbol de archivos\n",
    "```bash\n",
    " root\n",
    " ├───Codigos Python\n",
    " ├───Datos\n",
    " |   ├───Datos_CEN: Informacion de generacion historica en archivos .tsv para cada mes. Fuente:\n",
    " |   ├───Capacidad Instalada.xlsx: Informacion de capacidad instalada para cada mes. Fuente:\n",
    " |   └───Coordenadas.xlsx: Informacion de ubicacion geografica de centrales. Fuente:\n",
    " ├───Figuras: Carpeta que contiene las figuras de los codigos\n",
    " └───Output: Carpeta que contiene salidas de los programas, ejemplo: generación por cluster\n",
    " ```"
   ]
  },
  {
   "cell_type": "code",
   "execution_count": 2,
   "metadata": {},
   "outputs": [],
   "source": [
    "root_dir = os.path.dirname(os.getcwd())\n",
    "\n",
    "# Directorios principales\n",
    "ProcesamientoDatos_dir = os.path.join(root_dir, 'a. Procesamiento de datos')\n",
    "Estudios_dir = os.path.join(root_dir, 'b. Estudio Correlacion y Sistema')\n",
    "Simulacion_dir = os.path.join(root_dir, 'c. Simulacion sistema')\n",
    "\n",
    "# Datos de entrada\n",
    "Datos_dir = os.path.join(os.path.dirname(root_dir), '1. Datos de entrada')\n",
    "GenData_dir = os.path.join(Datos_dir, 'Generacion')\n",
    "datosCEN_dir = os.path.join(GenData_dir, 'Datos_CEN')\n",
    "\n",
    "# Directorios de procesamiento de datos\n",
    "Output_dir = os.path.join(ProcesamientoDatos_dir, 'Output')\n",
    "\n",
    "#Crear las carpetas que no existan\n",
    "if not os.path.exists(Output_dir): os.makedirs(Output_dir)\n",
    "\n",
    "# Directorios de coordenadas de centrales generado por el script 1.-GenerarCoordenadasCentrales.ipynb\n",
    "coord_dir = os.path.join(Output_dir, 'Coordenadas_CEN.xlsx')\n",
    "df_coord = pd.read_excel(coord_dir)"
   ]
  },
  {
   "cell_type": "code",
   "execution_count": 3,
   "metadata": {},
   "outputs": [],
   "source": [
    "# fix parameters\n",
    "LAST_DAY = {'01':31,'02':28,'03':31,'04':30,'05':31,'06':30,'07':31,'08':31,'09':30,'10':31,'11':30,'12':31}\n",
    "LEAP_YEARS = [2020,2024,2028,2032,2036,2040,2044,2048,2052,2056,2060]  # Años bisiestos\n",
    "MONTHS = ['enero','febrero','marzo','abril','mayo','junio','julio','agosto','septiembre','octubre','noviembre','diciembre']  # Vector con los meses del año\n",
    "MONTHS_NUMBERS = {'enero':'01','febrero':'02','marzo':'03','abril':'04','mayo':'05','junio':'06','julio':'07','agosto':'08','septiembre':'09','octubre':'10','noviembre':'11','diciembre':'12'}  # Diccionario que relaciona el nombre del mes con su número\n",
    "NUMBER_MONTHS = {1:'Enero',2:'Febrero',3:'Marzo',4:'Abril',5:'Mayo',6:'Junio',7:'Julio',8:'Agosto',9:'Septiembre',10:'Octubre',11:'Noviembre',12:'Diciembre'}  # Diccionario que relaciona el número del mes con su nombre"
   ]
  },
  {
   "cell_type": "code",
   "execution_count": 4,
   "metadata": {},
   "outputs": [],
   "source": [
    "# Creación de función para importar generación de cada central, en resolución horaria\n",
    "\n",
    "def GenerarDataset_Bruto():\n",
    "\n",
    "    # Vectores que contienen los archivos en datosCEN en formato tsv\n",
    "    files = [file for file in os.listdir(datosCEN_dir) if file.endswith('.tsv')]\n",
    "    n_files = len(files)  # Número de archivos en el directorio\n",
    "\n",
    "    # Enlace 'raw' a GitHub que contiene los archivos\n",
    "    #link = 'https://raw.githubusercontent.com/BryanLevy/Memoria/main/Datos%202020-2022/'\n",
    "\n",
    "    print(\"-\"*83+f\"\\n\"+\" Leyendo Datos de generación...\")\n",
    "    idx = 1  # Se define un índice para el print\n",
    "    df = pd.DataFrame()  # Se crea el dataframe\n",
    "    for f in files:  # Acciones a realizar para cada archivo en el vector\n",
    "        file = os.path.join(datosCEN_dir,f)  # Se concatena el nombre del archivo al enlace, obteniendo la ubicación de cada archivo\n",
    "        aux = pd.read_csv(file, sep='\\t')  # Se lee en una varbiable auxiliar la información de cada archivo\n",
    "        df = pd.concat([df,aux])  # Se concatena la información leída de cada archivo al dataframe\n",
    "\n",
    "        #print\n",
    "        info1,info2 = \"Leyendo:\",\" Progreso:\"\n",
    "        progress = f\"{idx}/{n_files}\"\n",
    "        sys.stdout.write(f\"\\r{info2:.<20}{progress:.>20} | {info1:.<20}{f:.>20}\")\n",
    "        idx += 1\n",
    "    \n",
    "    print(\"\\n\"+\" Generación de dataset bruto:\",end=\"\")\n",
    "\n",
    "    df =df.reset_index()  # Se reinicia el índice del dataframe\n",
    "    \n",
    "    df = df.drop(df[df['hora_opreal'] > 24].index) # Se borran datos que se encuentran operando en horas imposibles\n",
    "    df['hora_opreal'] = df['hora_opreal'] - 1  # Se ajusta el rango de operación diario entre las 00:00 hasta las 23:00 hrs \n",
    "\n",
    "    df['time'] = df['fecha_opreal'] + ' ' + df['hora_opreal'].astype('str')+':00:00'  # Se define un parámetro que incluye la fecha y la hora de operación\n",
    "    df['time'] = df['time'].str.replace('-','/')  # Se reemplazan los slash de la fecha por guiones\n",
    "    df['time'] = pd.to_datetime(df['time'])  # Se deja en formato de tiempo compatible con pandas la fecha y hora de cada dato \n",
    "\n",
    "    print(\"...............................Listo\")\n",
    "    print(\"-\"*83)\n",
    "    \n",
    "    return df  # Se termina de definir la función, retornando df\n",
    "\n",
    "def PreprocesarPerfil(df_Perfil):\n",
    "    df_Perfil_out = df_Perfil.copy(deep=True)\n",
    "    df_Perfil_out['Date'] = pd.to_datetime(df_Perfil_out['time']) #Deglosa la fecha que viene en los perfiles a datos trabajables\n",
    "    df_Perfil_out.insert(0, 'Year', df_Perfil_out['Date'].dt.year)\n",
    "    df_Perfil_out.insert(1, 'Month', df_Perfil_out['Date'].dt.month)\n",
    "    df_Perfil_out.insert(2, 'Day', df_Perfil_out['Date'].dt.day)\n",
    "    df_Perfil_out.insert(3, 'Hour', df_Perfil_out['Date'].dt.hour)\n",
    "    df_Perfil_out = df_Perfil_out.drop(['Date','time'], axis=1)\n",
    "    # Eliminar el dia 29 de febrero de todos los años si es que existe\n",
    "    #df_Perfil_out = df_Perfil_out.drop(df_Perfil_out[(df_Perfil_out['Month'] == 2) & (df_Perfil_out['Day'] == 29)].index).reset_index(drop=True)\n",
    "    return df_Perfil_out\n",
    "    \n",
    "\n",
    "def extraerhidraulicas_pasada(df_input):\n",
    "    df_out = df_input[df_input['central_tipo'] == 'Hidráulica']  # Se crea un dataframe con las centrales hidráulicas\n",
    "    for central in df_out.central_nombre.unique():\n",
    "        df_central = df_out[df_out['central_nombre'] == central]\n",
    "        # Revisar si la generacion ernc es igual a 0\n",
    "        if df_central['generacion_real_ernc_mwh'].sum() == 0:\n",
    "            df_out = df_out.drop(df_central.index)\n",
    "    return df_out"
   ]
  },
  {
   "cell_type": "code",
   "execution_count": 5,
   "metadata": {},
   "outputs": [
    {
     "name": "stdout",
     "output_type": "stream",
     "text": [
      "-----------------------------------------------------------------------------------\n",
      " Leyendo Datos de generación...\n",
      " Progreso:.........................54/54 | Leyendo:......................2024-6.tsv\n",
      " Generación de dataset bruto:...............................Listo\n",
      "-----------------------------------------------------------------------------------\n"
     ]
    }
   ],
   "source": [
    "df_raw = GenerarDataset_Bruto()"
   ]
  },
  {
   "cell_type": "code",
   "execution_count": 6,
   "metadata": {},
   "outputs": [
    {
     "data": {
      "text/plain": [
       "array(['hidraulica', 'termica', 'eolica', 'geotermica', 'solar'],\n",
       "      dtype=object)"
      ]
     },
     "execution_count": 6,
     "metadata": {},
     "output_type": "execute_result"
    }
   ],
   "source": [
    "df_raw[df_raw['generacion_real_ernc_mwh'] > 0]['central_tipo_nemotecnico'].unique()"
   ]
  },
  {
   "cell_type": "code",
   "execution_count": 7,
   "metadata": {},
   "outputs": [],
   "source": [
    "def GenerateDatasets(df_raw):\n",
    "    df_GenSist = df_raw.copy(deep=True)\n",
    "\n",
    "    # Eliminar todos los que tengan la fecha 02-29 en un año bisiesto\n",
    "    for year in LEAP_YEARS:\n",
    "        df_GenSist = df_GenSist.drop(df_GenSist[(df_GenSist['fecha_opreal'] == f'{year}-02-29')].index)\n",
    "\n",
    "    solar = df_GenSist[df_GenSist['central_tipo']=='Solar'] #Datos de las centrales solares.\n",
    "    eolica = df_GenSist[df_GenSist['central_tipo']=='Eólica'] # Datos de las centrales eólicas.\n",
    "    hidraulica = df_GenSist[df_GenSist['central_tipo']=='Hidráulica'] # Datos de las centrales hidráulicas.\n",
    "\n",
    "    eol = eolica.pivot_table(values='generacion_real_ernc_mwh', columns='central_nombre', index='time')  # Se deja como indice la hora del día (filas), mostrando la generación y cada central en las columnas.\n",
    "    sol = solar.pivot_table(values='generacion_real_ernc_mwh', columns='central_nombre', index='time')  # Se deja como indice la hora del día (filas), mostrando la generación y cada central en las columnas.\n",
    "    hid = hidraulica.pivot_table(values='generacion_real_mwh', columns='central_nombre', index='time')  # Se deja como indice la hora del día (filas), mostrando la generación y cada central en las columnas.\n",
    "    dem = df_GenSist.pivot_table(values='generacion_real_mwh', columns='central_nombre',index='time')\n",
    "    ren = df_GenSist.pivot_table(values='generacion_real_ernc_mwh', columns='central_nombre',index='time')\n",
    "\n",
    "    # cambiar el nombre de central_nombre a None (es el string que aparece sobre el indice luego de hacer el pivot_table)\n",
    "    eol.columns.name = None\n",
    "    sol.columns.name = None\n",
    "    hid.columns.name = None\n",
    "    dem.columns.name = None\n",
    "    ren.columns.name = None\n",
    "\n",
    "    # Sumar las potencias de cada dataframe para conseguir las de sistema\n",
    "    eol_sum = eol.sum(axis=1).rename('Eolica')\n",
    "    sol_sum = sol.sum(axis=1).rename('Solar')\n",
    "    hid_sum = hid.sum(axis=1).rename('Hidro')\n",
    "    dem_sum = dem.sum(axis=1).rename('Demanda')\n",
    "    ren_sum = ren.sum(axis=1).rename('ERNC')\n",
    "\n",
    "    # Concatenar los dataframes en uno solo\n",
    "    df_PotenciaSistema_raw = pd.concat([eol_sum,sol_sum,hid_sum,dem_sum,ren_sum], axis=1)\n",
    "    df_PotenciaSistema_raw = PreprocesarPerfil(df_PotenciaSistema_raw.reset_index())\n",
    "\n",
    "    # Datos con resolucion diaria en formato array\n",
    "    df_sol = PreprocesarPerfil(sol.reset_index())\n",
    "    df_eol = PreprocesarPerfil(eol.reset_index())\n",
    "    df_ren = PreprocesarPerfil(ren.reset_index())\n",
    "    df_dem = PreprocesarPerfil(dem.reset_index())\n",
    "\n",
    "    # Se separan las centrales hidroeléctricas según tipo de central\n",
    "\n",
    "    filtro_pasada = [col for col in hid if col.startswith('HP')]  # Se extraen las columnas que poseen centrales hidroeléctricas de pasada\n",
    "    filtro_embalse = [col for col in hid if col.startswith('HE')]  # Se extraen las columnas que poseen centrales hidroeléctricas de embalse\n",
    "    filtro_pmgd_pasada = [col for col in hid if col.startswith('PMGD HP')]  # Se extraen las columnas que poseen centrales hidroeléctricas de pasada con potencia <20 MW\n",
    "\n",
    "    pasada = hid[filtro_pasada]  # Datos de centrales hidroeléctricas de pasada\n",
    "    embalse = hid[filtro_embalse]  # Datos de centrales hidroeléctricas de embalse\n",
    "    pmgd_pasada = hid[filtro_pmgd_pasada]  # Datos de centrales hidroeléctricas de pasada con potencia <20 MW\n",
    "    hidro = hid[filtro_pasada + filtro_pmgd_pasada]\n",
    "    df_hid = PreprocesarPerfil(hidro.reset_index())\n",
    "\n",
    "    return df_PotenciaSistema_raw, df_sol, df_eol, df_hid, df_dem, df_ren\n",
    "\n",
    "def InterpolarHora(df_input:pd.DataFrame, Year:int ,Month:int, Day:int, Hour:int) -> pd.DataFrame:\n",
    "    \"\"\"\n",
    "    Dado un dataframe con datos horarios, se interpola la hora dada en el año, mes y día correspondiente.\n",
    "    Para hacer esto se promedia la hora anterior y la hora siguiente a la hora a interpolar.\n",
    "\n",
    "    En caso de que la hora a interpolar no exista, se inserta en el dataframe y se interpola.\n",
    "    En caso de que la hora a interpolar ya exista, se interpola y se reemplaza la hora con el promedio de la hora anterior y la hora siguiente.\n",
    "    \"\"\"\n",
    "\n",
    "\n",
    "    df_out = df_input.copy(deep=True)\n",
    "\n",
    "    # Revisar si la hora a insertar ya existe\n",
    "    if len(df_out[(df_out['Year'] == Year) & (df_out['Month'] == Month) & (df_out['Day'] == Day) & (df_out['Hour'] == Hour)]) > 0:\n",
    "        Existe = True\n",
    "    else:\n",
    "        Existe = False\n",
    "\n",
    "    # Buscar el indice en que deberia estar la hora a insertar\n",
    "    if Hour == 0: # Buscar el indice siguiente\n",
    "        idx = df_out[(df_out['Year'] == Year) & (df_out['Month'] == Month) & (df_out['Day'] == Day) & (df_out['Hour'] == Hour+1)].index[0]\n",
    "    else:\n",
    "        idx = df_out[(df_out['Year'] == Year) & (df_out['Month'] == Month) & (df_out['Day'] == Day) & (df_out['Hour'] == Hour-1)].index[0]\n",
    "        idx = idx + 1\n",
    "\n",
    "    # Dividir el dataframe en dos\n",
    "    if Existe:\n",
    "        df1 = df_out.iloc[:idx-1]\n",
    "    else:\n",
    "        df1 = df_out.iloc[:idx]\n",
    "    df2 = df_out.iloc[idx:]\n",
    "\n",
    "    df1_tail = df1.iloc[-1:].copy(deep=True)\n",
    "    df1_tail['Year'] = Year\n",
    "    df1_tail['Month'] = Month\n",
    "    df1_tail['Day'] = Day\n",
    "    df1_tail['Hour'] = Hour\n",
    "    df1_tail = df1_tail.set_index([\"Year\",\"Month\",\"Day\",\"Hour\"])\n",
    "\n",
    "    df2_head = df2.iloc[:1].copy(deep=True)\n",
    "    df2_head['Year'] = Year\n",
    "    df2_head['Month'] = Month\n",
    "    df2_head['Day'] = Day\n",
    "    df2_head['Hour'] = Hour\n",
    "    df2_head = df2_head.set_index([\"Year\",\"Month\",\"Day\",\"Hour\"])\n",
    "\n",
    "    df_insert = (df1_tail+df2_head)/2\n",
    "    df_insert = df_insert.reset_index()\n",
    "    df_out = pd.concat([df1,df_insert,df2]).reset_index(drop=True)\n",
    "    return df_out"
   ]
  },
  {
   "cell_type": "markdown",
   "metadata": {},
   "source": [
    "### Asegurar que todos los dataframes tengan 8760 horas y remover centrales conflictivas\n",
    "---\n",
    "NOTA: en algunos años meses la informacion de CEN tiene datos faltantes o sobrantes, se eliminan de acuerdo a criterio humano"
   ]
  },
  {
   "cell_type": "code",
   "execution_count": 8,
   "metadata": {},
   "outputs": [],
   "source": [
    "df_PotenciaSistema_raw, df_sol, df_eol, df_hid, df_dem, df_ren = GenerateDatasets(df_raw)\n",
    "\n",
    "df_sol = InterpolarHora(df_sol,2020,9,6,0)\n",
    "df_eol = InterpolarHora(df_eol,2020,9,6,0)\n",
    "df_hid = InterpolarHora(df_hid,2020,9,6,0)\n",
    "df_dem = InterpolarHora(df_dem,2020,9,6,0)\n",
    "df_ren = InterpolarHora(df_ren,2020,9,6,0)\n",
    "df_PotenciaSistema_raw = InterpolarHora(df_PotenciaSistema_raw,2020,9,6,0)\n",
    "\n",
    "df_sol = InterpolarHora(df_sol,2021,9,5,0)\n",
    "df_eol = InterpolarHora(df_eol,2021,9,5,0)\n",
    "df_hid = InterpolarHora(df_hid,2021,9,5,0)\n",
    "df_dem = InterpolarHora(df_dem,2021,9,5,0)\n",
    "df_ren = InterpolarHora(df_ren,2021,9,5,0)\n",
    "df_PotenciaSistema_raw = InterpolarHora(df_PotenciaSistema_raw,2021,9,5,0)\n",
    "\n",
    "# 2022\t9\t11 0 The generation is extremely low\n",
    "df_sol = InterpolarHora(df_sol,2022,9,11,0)\n",
    "df_eol = InterpolarHora(df_eol,2022,9,11,0)\n",
    "df_hid = InterpolarHora(df_hid,2022,9,11,0)\n",
    "df_dem = InterpolarHora(df_dem,2022,9,11,0)\n",
    "df_ren = InterpolarHora(df_ren,2022,9,11,0)\n",
    "df_PotenciaSistema_raw = InterpolarHora(df_PotenciaSistema_raw,2022,9,11,0)\n",
    "\n",
    "df_sol = InterpolarHora(df_sol,2023,9,3,0)\n",
    "df_eol = InterpolarHora(df_eol,2023,9,3,0)\n",
    "df_hid = InterpolarHora(df_hid,2023,9,3,0)\n",
    "df_dem = InterpolarHora(df_dem,2023,9,3,0)\n",
    "df_ren = InterpolarHora(df_ren,2023,9,3,0)\n",
    "df_PotenciaSistema_raw = InterpolarHora(df_PotenciaSistema_raw,2023,9,3,0)"
   ]
  },
  {
   "cell_type": "code",
   "execution_count": 9,
   "metadata": {},
   "outputs": [],
   "source": [
    "# Revisar si estan todas las horas necesarias\n",
    "def Check_Hours(df_input, name):\n",
    "    for Year in df_input['Year'].unique():\n",
    "        df_Year = df_input[df_input['Year'] == Year]\n",
    "        for Month in df_Year['Month'].unique():\n",
    "            df_Month = df_Year[df_Year['Month'] == Month]\n",
    "            for Day in df_Month['Day'].unique():\n",
    "                df_Day = df_Month[df_Month['Day'] == Day]\n",
    "                if len(df_Day) != 24:\n",
    "                    print(\"-\"*83)\n",
    "                    print(f\"Year: {Year}, Month: {Month}, Day: {Day}\")\n",
    "                    print(f\"Missing hours in {name}\")\n",
    "                    display(df_Day)\n",
    "\n",
    "Check_Hours(df_sol,'Solar')\n",
    "Check_Hours(df_eol,'Eolica')\n",
    "Check_Hours(df_hid,'Hidro')\n",
    "Check_Hours(df_dem,'Demanda')\n",
    "Check_Hours(df_ren,'ERNC')\n",
    "Check_Hours(df_PotenciaSistema_raw,'Potencia Sistema')"
   ]
  },
  {
   "cell_type": "markdown",
   "metadata": {},
   "source": [
    "# Quitar centrales conflictivas\n",
    "---"
   ]
  },
  {
   "cell_type": "code",
   "execution_count": 10,
   "metadata": {},
   "outputs": [],
   "source": [
    "# Eliminar central CSP CERRO DOMINADOR\n",
    "df_sol = df_sol.drop(['CSP CERRO DOMINADOR'], axis=1)\n",
    "df_dem = df_dem.drop(['CSP CERRO DOMINADOR'], axis=1)\n",
    "df_ren = df_ren.drop(['CSP CERRO DOMINADOR'], axis=1)"
   ]
  },
  {
   "cell_type": "markdown",
   "metadata": {},
   "source": [
    "### Quitar las centrales [en revision] o [No mostrar]"
   ]
  },
  {
   "cell_type": "code",
   "execution_count": 11,
   "metadata": {},
   "outputs": [],
   "source": [
    "def RemoverCentrales_EnRevision(df_input: pd.DataFrame) -> pd.DataFrame:\n",
    "    \"\"\"\n",
    "    Funcion que elimina toda central que tenga un nombre con el formato \"Nombre Central [En Revision]\" o \"Nombre Central [No mostrar]\"\n",
    "\n",
    "    Args:\n",
    "        df_input (DataFrame): DataFrame con los datos de generacion de cada central\n",
    "\n",
    "    Returns:\n",
    "        df_out (DataFrame): DataFrame con los datos de generacion de cada central sin las centrales en revision\n",
    "    \"\"\"\n",
    "    df_out = df_input.copy(deep=True)\n",
    "    centrales = df_out.columns\n",
    "    for central in centrales:\n",
    "        if \"[\" in central:\n",
    "            df_out = df_out.drop(central, axis=1)\n",
    "    return df_out\n",
    "\n",
    "def RemoverCentrales_SinData(df_input: pd.DataFrame) -> pd.DataFrame:\n",
    "    \"\"\"\n",
    "    Funcion que elimina toda central que no tenga datos de generacion, se define como no tener datos de generacion que todos sus valores sean NaN o bien que la suma de generacion sea 0\n",
    "\n",
    "    Args:\n",
    "        df_input (DataFrame): DataFrame con los datos de generacion de cada central\n",
    "\n",
    "    Returns:\n",
    "        df_out (DataFrame): DataFrame con los datos de generacion de cada central sin las centrales sin datos\n",
    "    \"\"\"\n",
    "    df_out = df_input.copy(deep=True)\n",
    "    centrales = df_out.columns\n",
    "    for central in centrales:\n",
    "        if df_out[central].isna().sum() == df_out.shape[0] or df_out[central].sum() == 0:\n",
    "            df_out = df_out.drop(central, axis=1)\n",
    "    return df_out\n",
    "\n",
    "def RemoverCentrales_SinCoordenadas(df_tech_input: pd.DataFrame,df_coord: pd.DataFrame) -> pd.DataFrame:\n",
    "    \"\"\"\n",
    "    Funcion que elimina todas las centrales de df_tech_input que no tengan coordenadas en df_coord\n",
    "\n",
    "    Args:\n",
    "        df_tech_input (DataFrame): DataFrame con los datos de generacion de cada central\n",
    "        df_coord (DataFrame): DataFrame con las coordenadas de cada central\n",
    "\n",
    "    Returns:\n",
    "        df_out (DataFrame): DataFrame con los datos de generacion de cada central sin las centrales sin coordenadas\n",
    "    \"\"\"\n",
    "    df_tech = df_tech_input.copy(deep=True)\n",
    "    centrales = df_tech.columns[4:]\n",
    "    for central in centrales:\n",
    "        if central not in df_coord['Nombre'].unique():\n",
    "            df_tech = df_tech.drop(central, axis=1)\n",
    "    return df_tech\n",
    "\n",
    "def CrearDataframe_Info(df_tech_input: pd.DataFrame,df_coord: pd.DataFrame) -> pd.DataFrame:\n",
    "    \"\"\"\n",
    "    Funcion que crea un dataframe con la informacion de cada central, incluyendo su ubicacion geografica\n",
    "\n",
    "    Args:\n",
    "        df_tech_input (DataFrame): DataFrame con los datos de generacion de cada central\n",
    "        df_coord (DataFrame): DataFrame con las coordenadas de cada central\n",
    "\n",
    "    Returns:\n",
    "        df_out (DataFrame): DataFrame con la informacion de cada central\n",
    "    \"\"\"\n",
    "    df_tech = df_tech_input.copy(deep=True)\n",
    "    centrales = df_tech.columns[4:]\n",
    "    dfs = []\n",
    "    for central in centrales:\n",
    "        df = df_coord[df_coord['Nombre'] == central]\n",
    "        dfs.append(df)\n",
    "    df_tech_data = pd.concat(dfs, ignore_index=True)\n",
    "    df_tech_data.sort_values(by=['ID'], inplace=True)\n",
    "    df_tech_data.drop(['Este','Norte','Zona'], axis=1, inplace=True)\n",
    "    return df_tech_data\n",
    "\n",
    "def CrearDataframes(dfs_tech: list,df_coord: pd.DataFrame)-> pd.DataFrame:\n",
    "    \"\"\"\n",
    "    Funcion que dada una lista de dataframes con los datos de generacion de cada tecnologia, crea dos listas de dataframes, una con los datos de generacion cada central y otra con la informacion de cada central\n",
    "    un dataframe para cada tecnologia\n",
    "\n",
    "    Args:\n",
    "        dfs_tech (list): Lista de DataFrames con los datos de generacion de cada tecnologia\n",
    "        df_coord (DataFrame): DataFrame con las coordenadas de cada central\n",
    "\n",
    "    Returns:\n",
    "        df_out (DataFrame): DataFrame con la informacion de cada central\n",
    "    \"\"\"\n",
    "    dfs_tech_data = []\n",
    "    dfs_tech_gen = []\n",
    "\n",
    "    for df in dfs_tech:\n",
    "        df_gen = df.copy(deep=True)\n",
    "        print(f\"Procesando {df.columns[0]}\")\n",
    "        print(f\"Numero Centrales: {df.shape[1]-4}\")\n",
    "        df_gen = RemoverCentrales_EnRevision(df_gen)\n",
    "        print(f\"Numero Centrales sin En Revision: {df_gen.shape[1]-4}\")\n",
    "        df_gen = RemoverCentrales_SinData(df_gen)\n",
    "        print(f\"Numero Centrales sin datos: {df_gen.shape[1]-4}\")\n",
    "        df_gen = RemoverCentrales_SinCoordenadas(df_gen,df_coord)\n",
    "        print(f\"Numero Centrales sin coordenadas: {df_gen.shape[1]-4}\")\n",
    "\n",
    "        df_data = CrearDataframe_Info(df_gen,df_coord)\n",
    "\n",
    "        dfs_tech_data.append(df_data)\n",
    "        dfs_tech_gen.append(df_gen)\n",
    "    return dfs_tech_data,dfs_tech_gen"
   ]
  },
  {
   "cell_type": "code",
   "execution_count": 12,
   "metadata": {},
   "outputs": [
    {
     "name": "stdout",
     "output_type": "stream",
     "text": [
      "Procesando Year\n",
      "Numero Centrales: 761\n",
      "Numero Centrales sin En Revision: 602\n",
      "Numero Centrales sin datos: 596\n",
      "Numero Centrales sin coordenadas: 466\n",
      "Procesando Year\n",
      "Numero Centrales: 81\n",
      "Numero Centrales sin En Revision: 60\n",
      "Numero Centrales sin datos: 60\n",
      "Numero Centrales sin coordenadas: 54\n",
      "Procesando Year\n",
      "Numero Centrales: 208\n",
      "Numero Centrales sin En Revision: 191\n",
      "Numero Centrales sin datos: 181\n",
      "Numero Centrales sin coordenadas: 151\n",
      "Procesando Year\n",
      "Numero Centrales: 1348\n",
      "Numero Centrales sin En Revision: 1115\n",
      "Numero Centrales sin datos: 1080\n",
      "Numero Centrales sin coordenadas: 877\n",
      "Procesando Year\n",
      "Numero Centrales: 1348\n",
      "Numero Centrales sin En Revision: 1115\n",
      "Numero Centrales sin datos: 852\n",
      "Numero Centrales sin coordenadas: 679\n"
     ]
    }
   ],
   "source": [
    "dfs_tech = [df_sol,df_eol,df_hid, df_dem, df_ren]\n",
    "dfs_tech_data,dfs_tech_gen = CrearDataframes(dfs_tech,df_coord)\n",
    "\n",
    "df_sol_data = dfs_tech_gen[0]\n",
    "df_eol_data = dfs_tech_gen[1]\n",
    "df_hid_data = dfs_tech_gen[2]\n",
    "df_dem_data = dfs_tech_gen[3]\n",
    "df_ren_data = dfs_tech_gen[4]\n",
    "\n",
    "df_sol_info = dfs_tech_data[0]\n",
    "df_eol_info = dfs_tech_data[1]\n",
    "df_hid_info = dfs_tech_data[2]\n",
    "df_dem_info = dfs_tech_data[3]\n",
    "df_ren_info = dfs_tech_data[4]"
   ]
  },
  {
   "cell_type": "code",
   "execution_count": 13,
   "metadata": {},
   "outputs": [
    {
     "data": {
      "text/html": [
       "<div>\n",
       "<style scoped>\n",
       "    .dataframe tbody tr th:only-of-type {\n",
       "        vertical-align: middle;\n",
       "    }\n",
       "\n",
       "    .dataframe tbody tr th {\n",
       "        vertical-align: top;\n",
       "    }\n",
       "\n",
       "    .dataframe thead th {\n",
       "        text-align: right;\n",
       "    }\n",
       "</style>\n",
       "<table border=\"1\" class=\"dataframe\">\n",
       "  <thead>\n",
       "    <tr style=\"text-align: right;\">\n",
       "      <th></th>\n",
       "      <th>Year</th>\n",
       "      <th>Month</th>\n",
       "      <th>Day</th>\n",
       "      <th>Hour</th>\n",
       "      <th>PE ALENA</th>\n",
       "      <th>PE AURORA</th>\n",
       "      <th>PE CABO LEONES</th>\n",
       "      <th>PE CABO LEONES II</th>\n",
       "      <th>PE CABO LEONES III</th>\n",
       "      <th>PE CALAMA</th>\n",
       "      <th>...</th>\n",
       "      <th>PE TOTORAL</th>\n",
       "      <th>PE UCUQUER II</th>\n",
       "      <th>PE VALLE DE LOS VIENTOS</th>\n",
       "      <th>PMGD PE EL ARREBOL</th>\n",
       "      <th>PMGD PE EL NOGAL</th>\n",
       "      <th>PMGD PE HUAJACHE</th>\n",
       "      <th>PMGD PE LAS PEÑAS</th>\n",
       "      <th>PMGD PE LEBU III</th>\n",
       "      <th>PMGD PE RAKI</th>\n",
       "      <th>PMGD PE UCUQUER</th>\n",
       "    </tr>\n",
       "  </thead>\n",
       "  <tbody>\n",
       "    <tr>\n",
       "      <th>0</th>\n",
       "      <td>2020</td>\n",
       "      <td>1</td>\n",
       "      <td>1</td>\n",
       "      <td>0</td>\n",
       "      <td>NaN</td>\n",
       "      <td>113.30</td>\n",
       "      <td>4.70</td>\n",
       "      <td>NaN</td>\n",
       "      <td>NaN</td>\n",
       "      <td>NaN</td>\n",
       "      <td>...</td>\n",
       "      <td>0.0</td>\n",
       "      <td>0.00</td>\n",
       "      <td>6.6493</td>\n",
       "      <td>NaN</td>\n",
       "      <td>6.428544</td>\n",
       "      <td>5.750661</td>\n",
       "      <td>8.191932</td>\n",
       "      <td>0.895025</td>\n",
       "      <td>7.598362</td>\n",
       "      <td>0.000000</td>\n",
       "    </tr>\n",
       "    <tr>\n",
       "      <th>1</th>\n",
       "      <td>2020</td>\n",
       "      <td>1</td>\n",
       "      <td>1</td>\n",
       "      <td>1</td>\n",
       "      <td>NaN</td>\n",
       "      <td>103.70</td>\n",
       "      <td>0.80</td>\n",
       "      <td>NaN</td>\n",
       "      <td>NaN</td>\n",
       "      <td>NaN</td>\n",
       "      <td>...</td>\n",
       "      <td>0.0</td>\n",
       "      <td>0.00</td>\n",
       "      <td>0.0502</td>\n",
       "      <td>NaN</td>\n",
       "      <td>5.556577</td>\n",
       "      <td>4.494656</td>\n",
       "      <td>7.418644</td>\n",
       "      <td>0.478126</td>\n",
       "      <td>5.419370</td>\n",
       "      <td>0.000000</td>\n",
       "    </tr>\n",
       "    <tr>\n",
       "      <th>2</th>\n",
       "      <td>2020</td>\n",
       "      <td>1</td>\n",
       "      <td>1</td>\n",
       "      <td>2</td>\n",
       "      <td>NaN</td>\n",
       "      <td>68.80</td>\n",
       "      <td>0.00</td>\n",
       "      <td>NaN</td>\n",
       "      <td>NaN</td>\n",
       "      <td>NaN</td>\n",
       "      <td>...</td>\n",
       "      <td>0.0</td>\n",
       "      <td>0.04</td>\n",
       "      <td>0.8958</td>\n",
       "      <td>NaN</td>\n",
       "      <td>3.007792</td>\n",
       "      <td>3.469866</td>\n",
       "      <td>6.194368</td>\n",
       "      <td>0.454619</td>\n",
       "      <td>4.149369</td>\n",
       "      <td>0.154903</td>\n",
       "    </tr>\n",
       "    <tr>\n",
       "      <th>3</th>\n",
       "      <td>2020</td>\n",
       "      <td>1</td>\n",
       "      <td>1</td>\n",
       "      <td>3</td>\n",
       "      <td>NaN</td>\n",
       "      <td>99.60</td>\n",
       "      <td>0.00</td>\n",
       "      <td>NaN</td>\n",
       "      <td>NaN</td>\n",
       "      <td>NaN</td>\n",
       "      <td>...</td>\n",
       "      <td>0.0</td>\n",
       "      <td>0.09</td>\n",
       "      <td>0.6307</td>\n",
       "      <td>NaN</td>\n",
       "      <td>2.299366</td>\n",
       "      <td>2.372455</td>\n",
       "      <td>6.130867</td>\n",
       "      <td>0.299609</td>\n",
       "      <td>3.288258</td>\n",
       "      <td>0.274007</td>\n",
       "    </tr>\n",
       "    <tr>\n",
       "      <th>4</th>\n",
       "      <td>2020</td>\n",
       "      <td>1</td>\n",
       "      <td>1</td>\n",
       "      <td>4</td>\n",
       "      <td>NaN</td>\n",
       "      <td>75.10</td>\n",
       "      <td>0.00</td>\n",
       "      <td>NaN</td>\n",
       "      <td>NaN</td>\n",
       "      <td>NaN</td>\n",
       "      <td>...</td>\n",
       "      <td>0.0</td>\n",
       "      <td>0.07</td>\n",
       "      <td>0.4157</td>\n",
       "      <td>NaN</td>\n",
       "      <td>2.615824</td>\n",
       "      <td>2.234700</td>\n",
       "      <td>7.579557</td>\n",
       "      <td>0.335788</td>\n",
       "      <td>2.949745</td>\n",
       "      <td>0.262205</td>\n",
       "    </tr>\n",
       "    <tr>\n",
       "      <th>...</th>\n",
       "      <td>...</td>\n",
       "      <td>...</td>\n",
       "      <td>...</td>\n",
       "      <td>...</td>\n",
       "      <td>...</td>\n",
       "      <td>...</td>\n",
       "      <td>...</td>\n",
       "      <td>...</td>\n",
       "      <td>...</td>\n",
       "      <td>...</td>\n",
       "      <td>...</td>\n",
       "      <td>...</td>\n",
       "      <td>...</td>\n",
       "      <td>...</td>\n",
       "      <td>...</td>\n",
       "      <td>...</td>\n",
       "      <td>...</td>\n",
       "      <td>...</td>\n",
       "      <td>...</td>\n",
       "      <td>...</td>\n",
       "      <td>...</td>\n",
       "    </tr>\n",
       "    <tr>\n",
       "      <th>39379</th>\n",
       "      <td>2024</td>\n",
       "      <td>6</td>\n",
       "      <td>30</td>\n",
       "      <td>19</td>\n",
       "      <td>19.48</td>\n",
       "      <td>11.35</td>\n",
       "      <td>113.02</td>\n",
       "      <td>95.47</td>\n",
       "      <td>136.91</td>\n",
       "      <td>41.4</td>\n",
       "      <td>...</td>\n",
       "      <td>19.8</td>\n",
       "      <td>4.70</td>\n",
       "      <td>22.4800</td>\n",
       "      <td>0.068424</td>\n",
       "      <td>0.000000</td>\n",
       "      <td>0.000000</td>\n",
       "      <td>0.000000</td>\n",
       "      <td>0.000000</td>\n",
       "      <td>0.000000</td>\n",
       "      <td>3.862371</td>\n",
       "    </tr>\n",
       "    <tr>\n",
       "      <th>39380</th>\n",
       "      <td>2024</td>\n",
       "      <td>6</td>\n",
       "      <td>30</td>\n",
       "      <td>20</td>\n",
       "      <td>12.61</td>\n",
       "      <td>6.32</td>\n",
       "      <td>75.41</td>\n",
       "      <td>38.84</td>\n",
       "      <td>92.05</td>\n",
       "      <td>4.5</td>\n",
       "      <td>...</td>\n",
       "      <td>13.6</td>\n",
       "      <td>5.34</td>\n",
       "      <td>1.4100</td>\n",
       "      <td>0.226850</td>\n",
       "      <td>0.000000</td>\n",
       "      <td>0.000000</td>\n",
       "      <td>0.000000</td>\n",
       "      <td>0.000000</td>\n",
       "      <td>0.000000</td>\n",
       "      <td>4.337461</td>\n",
       "    </tr>\n",
       "    <tr>\n",
       "      <th>39381</th>\n",
       "      <td>2024</td>\n",
       "      <td>6</td>\n",
       "      <td>30</td>\n",
       "      <td>21</td>\n",
       "      <td>16.69</td>\n",
       "      <td>0.04</td>\n",
       "      <td>35.37</td>\n",
       "      <td>13.51</td>\n",
       "      <td>48.67</td>\n",
       "      <td>1.2</td>\n",
       "      <td>...</td>\n",
       "      <td>4.6</td>\n",
       "      <td>4.74</td>\n",
       "      <td>0.0000</td>\n",
       "      <td>0.310338</td>\n",
       "      <td>0.000000</td>\n",
       "      <td>0.000000</td>\n",
       "      <td>0.000000</td>\n",
       "      <td>0.000000</td>\n",
       "      <td>0.000000</td>\n",
       "      <td>4.391308</td>\n",
       "    </tr>\n",
       "    <tr>\n",
       "      <th>39382</th>\n",
       "      <td>2024</td>\n",
       "      <td>6</td>\n",
       "      <td>30</td>\n",
       "      <td>22</td>\n",
       "      <td>12.71</td>\n",
       "      <td>0.15</td>\n",
       "      <td>26.20</td>\n",
       "      <td>12.75</td>\n",
       "      <td>45.05</td>\n",
       "      <td>2.8</td>\n",
       "      <td>...</td>\n",
       "      <td>7.3</td>\n",
       "      <td>4.13</td>\n",
       "      <td>2.9400</td>\n",
       "      <td>0.053696</td>\n",
       "      <td>0.000000</td>\n",
       "      <td>0.000000</td>\n",
       "      <td>0.000000</td>\n",
       "      <td>0.000000</td>\n",
       "      <td>0.000000</td>\n",
       "      <td>4.507329</td>\n",
       "    </tr>\n",
       "    <tr>\n",
       "      <th>39383</th>\n",
       "      <td>2024</td>\n",
       "      <td>6</td>\n",
       "      <td>30</td>\n",
       "      <td>23</td>\n",
       "      <td>11.64</td>\n",
       "      <td>0.00</td>\n",
       "      <td>43.49</td>\n",
       "      <td>20.67</td>\n",
       "      <td>49.50</td>\n",
       "      <td>21.9</td>\n",
       "      <td>...</td>\n",
       "      <td>19.6</td>\n",
       "      <td>4.32</td>\n",
       "      <td>4.1100</td>\n",
       "      <td>0.104833</td>\n",
       "      <td>0.000000</td>\n",
       "      <td>0.000000</td>\n",
       "      <td>0.090338</td>\n",
       "      <td>0.000000</td>\n",
       "      <td>0.000000</td>\n",
       "      <td>4.376906</td>\n",
       "    </tr>\n",
       "  </tbody>\n",
       "</table>\n",
       "<p>39384 rows × 58 columns</p>\n",
       "</div>"
      ],
      "text/plain": [
       "       Year  Month  Day  Hour  PE ALENA  PE AURORA  PE CABO LEONES  \\\n",
       "0      2020      1    1     0       NaN     113.30            4.70   \n",
       "1      2020      1    1     1       NaN     103.70            0.80   \n",
       "2      2020      1    1     2       NaN      68.80            0.00   \n",
       "3      2020      1    1     3       NaN      99.60            0.00   \n",
       "4      2020      1    1     4       NaN      75.10            0.00   \n",
       "...     ...    ...  ...   ...       ...        ...             ...   \n",
       "39379  2024      6   30    19     19.48      11.35          113.02   \n",
       "39380  2024      6   30    20     12.61       6.32           75.41   \n",
       "39381  2024      6   30    21     16.69       0.04           35.37   \n",
       "39382  2024      6   30    22     12.71       0.15           26.20   \n",
       "39383  2024      6   30    23     11.64       0.00           43.49   \n",
       "\n",
       "       PE CABO LEONES II  PE CABO LEONES III  PE CALAMA  ...  PE TOTORAL  \\\n",
       "0                    NaN                 NaN        NaN  ...         0.0   \n",
       "1                    NaN                 NaN        NaN  ...         0.0   \n",
       "2                    NaN                 NaN        NaN  ...         0.0   \n",
       "3                    NaN                 NaN        NaN  ...         0.0   \n",
       "4                    NaN                 NaN        NaN  ...         0.0   \n",
       "...                  ...                 ...        ...  ...         ...   \n",
       "39379              95.47              136.91       41.4  ...        19.8   \n",
       "39380              38.84               92.05        4.5  ...        13.6   \n",
       "39381              13.51               48.67        1.2  ...         4.6   \n",
       "39382              12.75               45.05        2.8  ...         7.3   \n",
       "39383              20.67               49.50       21.9  ...        19.6   \n",
       "\n",
       "       PE UCUQUER II  PE VALLE DE LOS VIENTOS  PMGD PE EL ARREBOL  \\\n",
       "0               0.00                   6.6493                 NaN   \n",
       "1               0.00                   0.0502                 NaN   \n",
       "2               0.04                   0.8958                 NaN   \n",
       "3               0.09                   0.6307                 NaN   \n",
       "4               0.07                   0.4157                 NaN   \n",
       "...              ...                      ...                 ...   \n",
       "39379           4.70                  22.4800            0.068424   \n",
       "39380           5.34                   1.4100            0.226850   \n",
       "39381           4.74                   0.0000            0.310338   \n",
       "39382           4.13                   2.9400            0.053696   \n",
       "39383           4.32                   4.1100            0.104833   \n",
       "\n",
       "       PMGD PE EL NOGAL  PMGD PE HUAJACHE  PMGD PE LAS PEÑAS  \\\n",
       "0              6.428544          5.750661           8.191932   \n",
       "1              5.556577          4.494656           7.418644   \n",
       "2              3.007792          3.469866           6.194368   \n",
       "3              2.299366          2.372455           6.130867   \n",
       "4              2.615824          2.234700           7.579557   \n",
       "...                 ...               ...                ...   \n",
       "39379          0.000000          0.000000           0.000000   \n",
       "39380          0.000000          0.000000           0.000000   \n",
       "39381          0.000000          0.000000           0.000000   \n",
       "39382          0.000000          0.000000           0.000000   \n",
       "39383          0.000000          0.000000           0.090338   \n",
       "\n",
       "       PMGD PE LEBU III  PMGD PE RAKI  PMGD PE UCUQUER  \n",
       "0              0.895025      7.598362         0.000000  \n",
       "1              0.478126      5.419370         0.000000  \n",
       "2              0.454619      4.149369         0.154903  \n",
       "3              0.299609      3.288258         0.274007  \n",
       "4              0.335788      2.949745         0.262205  \n",
       "...                 ...           ...              ...  \n",
       "39379          0.000000      0.000000         3.862371  \n",
       "39380          0.000000      0.000000         4.337461  \n",
       "39381          0.000000      0.000000         4.391308  \n",
       "39382          0.000000      0.000000         4.507329  \n",
       "39383          0.000000      0.000000         4.376906  \n",
       "\n",
       "[39384 rows x 58 columns]"
      ]
     },
     "execution_count": 13,
     "metadata": {},
     "output_type": "execute_result"
    }
   ],
   "source": [
    "df_eol_data"
   ]
  },
  {
   "cell_type": "markdown",
   "metadata": {},
   "source": [
    "# Exportar Archivos\n",
    "---"
   ]
  },
  {
   "cell_type": "code",
   "execution_count": 14,
   "metadata": {},
   "outputs": [],
   "source": [
    "df_sol_data.to_parquet(os.path.join(Output_dir,'df_sol_data.parquet'))\n",
    "df_eol_data.to_parquet(os.path.join(Output_dir,'df_eol_data.parquet'))\n",
    "df_hid_data.to_parquet(os.path.join(Output_dir,'df_hid_data.parquet'))\n",
    "df_dem_data.to_parquet(os.path.join(Output_dir,'df_dem_data.parquet'))\n",
    "df_ren_data.to_parquet(os.path.join(Output_dir,'df_ren_data.parquet'))\n",
    "\n",
    "df_PotenciaSistema_raw.to_parquet(os.path.join(Output_dir,'df_PotenciaSistema.parquet'))\n",
    "\n",
    "with pd.ExcelWriter(os.path.join(Output_dir,'df_GenInfo.xlsx')) as writer:\n",
    "    df_sol_info.to_excel(writer, sheet_name='Solar', index=False)\n",
    "    df_eol_info.to_excel(writer, sheet_name='Eolica', index=False)\n",
    "    df_hid_info.to_excel(writer, sheet_name='Hidro', index=False)\n",
    "    df_dem_info.to_excel(writer, sheet_name='Demanda', index=False)\n",
    "    df_ren_info.to_excel(writer, sheet_name='ERNC', index=False)"
   ]
  },
  {
   "cell_type": "code",
   "execution_count": 15,
   "metadata": {},
   "outputs": [
    {
     "data": {
      "image/png": "[encoded data removed]",
      "text/plain": [
       "<Figure size 1500x500 with 1 Axes>"
      ]
     },
     "metadata": {},
     "output_type": "display_data"
    },
    {
     "data": {
      "image/png": "[encoded data removed]",
      "text/plain": [
       "<Figure size 1500x500 with 1 Axes>"
      ]
     },
     "metadata": {},
     "output_type": "display_data"
    },
    {
     "data": {
      "image/png": "[encoded data removed]",
      "text/plain": [
       "<Figure size 1500x500 with 1 Axes>"
      ]
     },
     "metadata": {},
     "output_type": "display_data"
    },
    {
     "data": {
      "image/png": "[encoded data removed]",
      "text/plain": [
       "<Figure size 1500x500 with 1 Axes>"
      ]
     },
     "metadata": {},
     "output_type": "display_data"
    },
    {
     "data": {
      "image/png": "[encoded data removed]",
      "text/plain": [
       "<Figure size 1500x500 with 1 Axes>"
      ]
     },
     "metadata": {},
     "output_type": "display_data"
    }
   ],
   "source": [
    "import matplotlib.pyplot as plt\n",
    "import seaborn as sns\n",
    "\n",
    "def PlotData(df_input: pd.DataFrame, title: str, xlabel: str, ylabel: str, save: bool = False, save_path: str = None):\n",
    "\n",
    "    fig, ax = plt.subplots(figsize=(15,5))\n",
    "    sns.lineplot(data=df_input, ax=ax)\n",
    "    ax.set_title(title)\n",
    "    ax.set_xlabel(xlabel)\n",
    "    ax.set_ylabel(ylabel)\n",
    "    if save:\n",
    "        plt.savefig(save_path)\n",
    "    plt.show()\n",
    "\n",
    "PlotData(df_PotenciaSistema_raw[\"Demanda\"], 'Demanda', 'Tiempo', 'Potencia [MW]', save=True, save_path=os.path.join(Output_dir,'PotenciaSistema.png'))\n",
    "PlotData(df_PotenciaSistema_raw[\"ERNC\"], 'Potencia ERNC', 'Tiempo', 'Potencia [MW]', save=True, save_path=os.path.join(Output_dir,'PotenciaSistema.png'))\n",
    "PlotData(df_PotenciaSistema_raw[\"Eolica\"], 'Potencia Eolica', 'Tiempo', 'Potencia [MW]', save=True, save_path=os.path.join(Output_dir,'PotenciaSistema.png'))\n",
    "PlotData(df_PotenciaSistema_raw[\"Solar\"], 'Potencia Solar', 'Tiempo', 'Potencia [MW]', save=True, save_path=os.path.join(Output_dir,'PotenciaSistema.png'))\n",
    "PlotData(df_PotenciaSistema_raw[\"Hidro\"], 'Potencia Hidro', 'Tiempo', 'Potencia [MW]', save=True, save_path=os.path.join(Output_dir,'PotenciaSistema.png'))\n"
   ]
  },
  {
   "cell_type": "markdown",
   "metadata": {},
   "source": [
    "# Visualizacion rapida de centrales\n",
    "---"
   ]
  },
  {
   "cell_type": "code",
   "execution_count": 16,
   "metadata": {},
   "outputs": [
    {
     "data": {
      "application/vnd.plotly.v1+json": {
       "config": {
        "plotlyServerURL": "https://plot.ly"
       },
       "data": [
        {
         "customdata": [
          [
           "PFV SDGX01"
          ],
          [
           "PFV LLANO DE LLAMPOS"
          ],
          [
           "PFV SAN ANDRES"
          ],
          [
           "PFV DIEGO DE ALMAGRO"
          ],
          [
           "PMGD PFV SANTA CECILIA"
          ],
          [
           "PFV LALACKAMA"
          ],
          [
           "PFV CHAÑARES"
          ],
          [
           "PFV SALVADOR"
          ],
          [
           "PMGD PFV LAS TERRAZAS"
          ],
          [
           "PMGD PFV PAMA"
          ],
          [
           "PMGD PFV LOMAS COLORADAS"
          ],
          [
           "PMGD PFV TAMBO REAL"
          ],
          [
           "PFV JAVIERA"
          ],
          [
           "PFV LUZ DEL NORTE"
          ],
          [
           "PMGD PFV HORNITOS"
          ],
          [
           "PFV PILAR LOS AMARILLOS"
          ],
          [
           "PFV PAMPA SOLAR NORTE"
          ],
          [
           "PMGD PFV LUNA DEL NORTE"
          ],
          [
           "PFV CARRERA PINTO"
          ],
          [
           "PMGD PFV SOL DEL NORTE"
          ],
          [
           "PFV LALACKAMA II"
          ],
          [
           "PFV LA SILLA"
          ],
          [
           "PFV QUILAPILUN"
          ],
          [
           "PMGD PFV LA CHAPEANA"
          ],
          [
           "PMGD PFV  LAS MOLLACAS"
          ],
          [
           "PFV LOS LOROS"
          ],
          [
           "PFV CONEJO SOLAR"
          ],
          [
           "PMGD PFV LAGUNILLA"
          ],
          [
           "PMGD PFV TILTIL"
          ],
          [
           "PFV PILOTO SOLAR CARDONES"
          ],
          [
           "PFV SANTIAGO SOLAR"
          ],
          [
           "PMGD PFV BELLAVISTA"
          ],
          [
           "PMGD PFV SANTA JULIA"
          ],
          [
           "PFV ANDES SOLAR"
          ],
          [
           "PFV PAMPA CAMARONES"
          ],
          [
           "PFV EL AGUILA"
          ],
          [
           "PFV MARIA ELENA"
          ],
          [
           "PFV FINIS TERRAE"
          ],
          [
           "PFV JAMA"
          ],
          [
           "PFV POZO ALMONTE SOLAR II"
          ],
          [
           "PFV POZO ALMONTE SOLAR III"
          ],
          [
           "PFV LA HUAYCA II"
          ],
          [
           "PMGD PFV CHUCHIÑI"
          ],
          [
           "PMGD PFV EL DIVISADERO"
          ],
          [
           "PFV EL ROMERO"
          ],
          [
           "PFV DOÑA CARMEN SOLAR"
          ],
          [
           "PFV EL PELICANO"
          ],
          [
           "PMGD PFV CORDILLERILLA SOLAR"
          ],
          [
           "PMGD PFV ALTURAS DE OVALLE"
          ],
          [
           "PMGD PFV HORMIGA SOLAR"
          ],
          [
           "PMGD PFV SAN PEDRO"
          ],
          [
           "PMGD PFV ÑILHUE"
          ],
          [
           "PMGD PFV EL BOCO"
          ],
          [
           "PMGD PFV EL SAUCE"
          ],
          [
           "PMGD PFV EL ROBLE"
          ],
          [
           "PMGD PFV EL LAUREL"
          ],
          [
           "PMGD PFV LIRIO DEL CAMPO"
          ],
          [
           "PFV URIBE SOLAR"
          ],
          [
           "PFV BOLERO"
          ],
          [
           "PMGD PFV LA ESPERANZA II"
          ],
          [
           "PMGD PFV CUZ CUZ"
          ],
          [
           "PMGD PFV MARCHIGUE II"
          ],
          [
           "PMGD PFV LOS PUQUIOS"
          ],
          [
           "PMGD PFV PAS1"
          ],
          [
           "PMGD PFV PICA"
          ],
          [
           "PMGD PFV CALAMA SOLAR"
          ],
          [
           "PMGD PFV LAS TURCAS"
          ],
          [
           "PFV ANTAY"
          ],
          [
           "PFV CERRO DOMINADOR"
          ],
          [
           "PFV PUERTO SECO SOLAR"
          ],
          [
           "PMGD PFV SAN FRANCISCO"
          ],
          [
           "PMGD PFV QUINTA SOLAR"
          ],
          [
           "PMGD PFV VALLE DE LA LUNA II"
          ],
          [
           "PMGD PFV FRANCISCO"
          ],
          [
           "PMGD PFV PANQUEHUE II"
          ],
          [
           "PMGD PFV EL QUELTEHUE"
          ],
          [
           "PMGD PFV SANTUARIO SOLAR"
          ],
          [
           "PMGD PFV DON EUGENIO"
          ],
          [
           "PMGD PFV EL PILPEN"
          ],
          [
           "PMGD PFV LA MANGA"
          ],
          [
           "PMGD PFV LA FRONTERA"
          ],
          [
           "PMGD PFV CHIMBARONGO"
          ],
          [
           "PFV HUATACONDO"
          ],
          [
           "PMGD PFV EL CERNICALO II"
          ],
          [
           "PMGD PFV PORTEZUELO"
          ],
          [
           "PMGD PFV LOS GORRIONES"
          ],
          [
           "PMGD PFV EL CERNICALO"
          ],
          [
           "PMGD PFV HOMERO SOLAR"
          ],
          [
           "PMGD PFV CABILSOL"
          ],
          [
           "PMGD PFV DIEGO DE ALMAGRO SOLAR"
          ],
          [
           "PMGD PFV EL PITIO"
          ],
          [
           "PMGD PFV PERALILLO"
          ],
          [
           "PMGD PFV AMPARO DEL SOL"
          ],
          [
           "PMGD PFV MOSTAZAL"
          ],
          [
           "PMGD PFV CHANCON"
          ],
          [
           "PMGD PFV LA ACACIA"
          ],
          [
           "PMGD PFV LUDERS"
          ],
          [
           "PMGD PFV OVEJERIA"
          ],
          [
           "PMGD PFV LOS PATOS"
          ],
          [
           "PMGD PFV OCOA"
          ],
          [
           "PMGD PFV TALHUEN"
          ],
          [
           "PMGD PFV LOS LIBERTADORES"
          ],
          [
           "PMGD PFV SANTA LAURA"
          ],
          [
           "PMGD PFV CATAN SOLAR"
          ],
          [
           "PMGD PFV VILLA PRAT"
          ],
          [
           "PMGD PFV LAS PALOMAS"
          ],
          [
           "PMGD PFV EL PICURIO"
          ],
          [
           "PMGD PFV EL CHINCOL"
          ],
          [
           "PMGD PFV ALTO SOLAR"
          ],
          [
           "PMGD PFV ALICAHUE"
          ],
          [
           "PMGD PFV ENCON SOLAR"
          ],
          [
           "PMGD PFV CINTAC"
          ],
          [
           "PMGD PFV OLIVILLO"
          ],
          [
           "PMGD PFV PIQUERO"
          ],
          [
           "PMGD PFV VALLE SOLAR ESTE II"
          ],
          [
           "PMGD PFV VALLE SOLAR OESTE II"
          ],
          [
           "PMGD PFV EL QUEMADO"
          ],
          [
           "PMGD PFV RODEO"
          ],
          [
           "PMGD PFV EL QUEULE"
          ],
          [
           "PMGD PFV MALAQUITA SOLAR II"
          ],
          [
           "PMGD PFV PUNTA BAJA SOLAR"
          ],
          [
           "PMGD PFV CACHIYUYO SOLAR II"
          ],
          [
           "PMGD PFV LA BLANQUINA"
          ],
          [
           "PMGD PFV CALLE LARGA"
          ],
          [
           "PMGD PFV MARIN"
          ],
          [
           "PMGD PFV VITUCO 2B"
          ],
          [
           "PMGD PFV ARIZTIA"
          ],
          [
           "PFV ALMEYDA"
          ],
          [
           "PMGD PFV LO SIERRA"
          ],
          [
           "PMGD PFV CRUCERO"
          ],
          [
           "PMGD PFV PIRQUE"
          ],
          [
           "PMGD PFV POBLACION"
          ],
          [
           "PMGD PFV LA LAJUELA"
          ],
          [
           "PMGD PFV GR SANTA ROSA"
          ],
          [
           "PMGD PFV PEDREROS SOLAR"
          ],
          [
           "PMGD PFV SANTA CLARA"
          ],
          [
           "PMGD PFV LIPANGUE"
          ],
          [
           "PMGD PFV ALTOS DE TILTIL"
          ],
          [
           "PMGD PFV LOS PERALES"
          ],
          [
           "PMGD PFV SANTA ADRIANA"
          ],
          [
           "PMGD PFV TRICAHUE II"
          ],
          [
           "PMGD PFV CASUTO"
          ],
          [
           "PMGD PFV ROVIAN"
          ],
          [
           "PMGD PFV NORTE CHICO"
          ],
          [
           "PMGD PFV RANGUIL"
          ],
          [
           "PMGD PFV CHALINGA SOLAR"
          ],
          [
           "PMGD PFV CRUZ SOLAR"
          ],
          [
           "PMGD PFV ILLAPEL 5X"
          ],
          [
           "PMGD PFV LAS CODORNICES"
          ],
          [
           "PMGD PFV EL CONDOR"
          ],
          [
           "PMGD PFV TALCA"
          ],
          [
           "PMGD PFV MONTT SOLAR"
          ],
          [
           "PFV GRANJA SOLAR"
          ],
          [
           "PMGD PFV RLA SOLAR"
          ],
          [
           "PMGD PFV CANESA SOLAR"
          ],
          [
           "PMGD PFV LAS PERDICES"
          ],
          [
           "PFV ANDES SOLAR II"
          ],
          [
           "PMGD PFV MARCHIHUE VII"
          ],
          [
           "PMGD PFV DOÑIHUE"
          ],
          [
           "PMGD PFV JAURURO SOLAR"
          ],
          [
           "PMGD PFV TUCUQUERE"
          ],
          [
           "PMGD PFV JOSE SOLER MALLAFRE"
          ],
          [
           "PMGD PFV LAS LECHUZAS"
          ],
          [
           "PMGD PFV PLACILLA SOLAR"
          ],
          [
           "PFV SANTA ISABEL"
          ],
          [
           "PMGD PFV VILLA SECA"
          ],
          [
           "PMGD PFV LUCE SOLAR"
          ],
          [
           "PMGD PFV LA LIGUA"
          ],
          [
           "PFV USYA"
          ],
          [
           "PMGD PFV SAN ISIDRO"
          ],
          [
           "PMGD PFV LAS MERCEDES"
          ],
          [
           "PMGD PFV BELLAVISTA 1"
          ],
          [
           "PFV NUEVO QUILLAGUA"
          ],
          [
           "PMGD PFV CITRINO"
          ],
          [
           "PMGD PFV ECLIPSE SOLAR"
          ],
          [
           "PMGD PFV PILPILEN"
          ],
          [
           "PFV ATACAMA SOLAR II"
          ],
          [
           "PFV SAN PEDRO"
          ],
          [
           "PMGD LORETO SOLAR"
          ],
          [
           "PMGD PFV EL ESTERO"
          ],
          [
           "PMGD PFV RINCONADA"
          ],
          [
           "PMGD PFV LO MIRANDA"
          ],
          [
           "PMGD PFV KONDA"
          ],
          [
           "PMGD PFV LOS PALTOS"
          ],
          [
           "PMGD PFV LAS ROJAS"
          ],
          [
           "PFV LA HUELLA"
          ],
          [
           "PMGD PFV GUADALAO"
          ],
          [
           "PFV RIO ESCONDIDO"
          ],
          [
           "PFV AZABACHE"
          ],
          [
           "PMGD PFV PARAGUAY"
          ],
          [
           "PFV CAMPOS DEL SOL"
          ],
          [
           "PFV CAPRICORNIO"
          ],
          [
           "PMGD PFV RAUQUEN"
          ],
          [
           "PMGD PFV LA ESTANCIA"
          ],
          [
           "PMGD PFV LAS CHACRAS"
          ],
          [
           "PMGD PFV CHACABUCO"
          ],
          [
           "PMGD PFV VILLA CRUZ"
          ],
          [
           "PFV MALGARIDA"
          ],
          [
           "PMGD PFV PULLALLI SOLAR"
          ],
          [
           "PMGD PFV MARIA PINTO"
          ],
          [
           "PMGD PFV TRICA-DOS"
          ],
          [
           "PMGD PFV LLANOS DE POTROSO"
          ],
          [
           "PMGD PFV CATEMU"
          ],
          [
           "PMGD PFV EL CHUCAO"
          ],
          [
           "PMGD PFV JAHUEL"
          ],
          [
           "PMGD PFV DARLIN SOLAR"
          ],
          [
           "PMGD PFV UTFSM VALPARAISO VALDES"
          ],
          [
           "PMGD PFV UTFSM VIÑA DEL MAR"
          ],
          [
           "PMGD PFV COVADONGA"
          ],
          [
           "PMGD PFV GIRASOLES"
          ],
          [
           "PMGD PFV ANTONIA SOLAR"
          ],
          [
           "PMGD PFV PARQUE SOLAR SANTA FE"
          ],
          [
           "PMGD PFV ÑIQUEN"
          ],
          [
           "PMGD PFV DON MARIANO"
          ],
          [
           "PMGD PFV VILLA ALEGRE"
          ],
          [
           "PMGD PFV GR LEMU"
          ],
          [
           "PMGD PFV LA CHIMBA BIS"
          ],
          [
           "PFV SOL DEL DESIERTO"
          ],
          [
           "PFV LA CRUZ SOLAR"
          ],
          [
           "PFV SOL DE LILA"
          ],
          [
           "PMGD PFV EL RESPLANDOR"
          ],
          [
           "PMGD PFV SANTA AMELIA"
          ],
          [
           "PMGD PFV EL LITRE SOLAR"
          ],
          [
           "PMGD PFV SOL DE SEPTIEMBRE"
          ],
          [
           "PMGD PFV TREBAL SOLAR"
          ],
          [
           "PMGD PFV GRANADA"
          ],
          [
           "PMGD PFV  ARGOMEDO"
          ],
          [
           "PMGD PFV COCHARCAS"
          ],
          [
           "PMGD PFV VICTORIA"
          ],
          [
           "PFV SOL DE LOS ANDES"
          ],
          [
           "PMGD  PFV PLAYERO"
          ],
          [
           "PMGD PFV FILOMENA SOLAR"
          ],
          [
           "PMGD PFV PUENTE SOLAR"
          ],
          [
           "PMGD PFV PEPA SOLAR"
          ],
          [
           "PMGD PFV EL GUANACO SOLAR"
          ],
          [
           "PMGD PFV CIPRES"
          ],
          [
           "PFV DE LOS ANDES"
          ],
          [
           "PMGD PFV LAS TORCAZAS"
          ],
          [
           "PFV SOL DEL NORTE"
          ],
          [
           "PMGD PFV LOS TILOS"
          ],
          [
           "PMGD PFV LAS TORTOLAS"
          ],
          [
           "PMGD PFV PARQUE SOLAR BICENTENARIO"
          ],
          [
           "PMGD PFV  COCINILLAS"
          ],
          [
           "PMGD PFV CANELILLO"
          ],
          [
           "PMGD PFV CAIMI"
          ],
          [
           "PMGD PFV QUILLAY"
          ],
          [
           "PMGD PFV  SANTA CAROLINA"
          ],
          [
           "PMGD PFV CANDELARIA SOLAR"
          ],
          [
           "PFV DOMEYKO"
          ],
          [
           "PMGD PFV DON JORGE (EX PERALILLO)"
          ],
          [
           "PMGD PFV PITRA"
          ],
          [
           "PMGD PFV PARQUE SOLAR SAN JAVIER"
          ],
          [
           "PMGD PFV EL ROMERAL"
          ],
          [
           "PMGD PFV PLAYERITO"
          ],
          [
           "PMGD PFV GR RAULI"
          ],
          [
           "PMGD PFV SANTA INES SOLAR"
          ],
          [
           "PMGD PFV PARQUE SOLAR MECO CHILLAN"
          ],
          [
           "PMGD PFV QUINANTU SOLAR"
          ],
          [
           "PMGD PFV MERCURIO SUR"
          ],
          [
           "PMGD PFV SATURNO NORTE"
          ],
          [
           "PFV VALLE ESCONDIDO"
          ],
          [
           "PFV PAMPA TIGRE"
          ],
          [
           "PMGD PFV DON ANDRONICO"
          ],
          [
           "PMGD PFV EL SALITRAL"
          ],
          [
           "PMGD PFV PAINE"
          ],
          [
           "PMGD PFV PARQUE SOLAR OVALLE NORTE"
          ],
          [
           "PMGD PFV TRINIDAD"
          ],
          [
           "PMGD PFV PARQUE SOLAR LA MURALLA"
          ],
          [
           "PMGD PFV LUMBRERAS"
          ],
          [
           "PFV TAMAYA SOLAR"
          ],
          [
           "PMGD PFV LINGUE"
          ],
          [
           "PMGD PFV EL PIUQUEN"
          ],
          [
           "PMGD PFV LA FORESTA"
          ],
          [
           "PMGD PFV LAS MAJADAS"
          ],
          [
           "PMGD PFV VENTURADA"
          ],
          [
           "PMGD PFV VILLA SOLAR"
          ],
          [
           "PMGD PFV PARQUE ROMERIA"
          ],
          [
           "PMGD PFV PARQUE SOLAR MEMBRILLO"
          ],
          [
           "PMGD PFV BERRUECO"
          ],
          [
           "PMGD PFV TAMARUGO"
          ],
          [
           "PMGD PFV CASABERMEJA"
          ],
          [
           "PFV VALLE DEL SOL"
          ],
          [
           "PMGD PFV SAN CAMILO"
          ],
          [
           "PMGD PFV DADINCO"
          ],
          [
           "PMGD PFV KAUFMANN"
          ],
          [
           "PMGD PFV CURACAVI"
          ],
          [
           "PMGD PFV EL FLAMENCO"
          ],
          [
           "PMGD PFV PARQUE SOLAR ALCALDESA"
          ],
          [
           "PFV ANDES SOLAR II-B"
          ],
          [
           "PFV TENO SOLAR"
          ],
          [
           "PFV MACHICURA"
          ],
          [
           "PFV CARACAS II"
          ],
          [
           "PMGD PFV SANTA RITA"
          ],
          [
           "PMGD PFV SDSI"
          ],
          [
           "PMGD PFV NAHUEN"
          ],
          [
           "PMGD PFV PRETTY FIELD"
          ],
          [
           "PMGD PFV PARQUE PENCAHUE ESTE"
          ],
          [
           "PMGD PFV PARQUE CURICURA"
          ],
          [
           "PMGD PFV PARQUE ALHUE"
          ],
          [
           "PFV DIEGO DE ALMAGRO SUR"
          ],
          [
           "PMGD PFV LO BOZA"
          ],
          [
           "PFV COYA"
          ],
          [
           "PMGD PFV GR PITAO"
          ],
          [
           "PMGD PFV LLAY LLAY"
          ],
          [
           "PMGD PFV LINARES SOLAR"
          ],
          [
           "PMGD PFV LOS LAGOS"
          ],
          [
           "PMGD PFV RINCONADA NORTE (SLK 808)"
          ],
          [
           "PMGD PFV AVILES"
          ],
          [
           "PMGD PFV PEÑAFLOR SOLAR"
          ],
          [
           "PMGD PFV SALERNO SOLAR"
          ],
          [
           "PMGD PFV LAS CABRAS"
          ],
          [
           "PMGD PFV ESFENA"
          ],
          [
           "PMGD PFV VICENTE SOLAR"
          ],
          [
           "PMGD PFV MUTUPIN"
          ],
          [
           "PMGD PFV ORION SOLAR"
          ],
          [
           "PMGD PFV QUETENA"
          ],
          [
           "PMGD PFV HUAPE"
          ],
          [
           "PMGD PFV SANTA ESTER"
          ],
          [
           "PMGD PFV PARQUE PANGUILEMO AEROPUERTO"
          ],
          [
           "PMGD PFV PARQUE SANTA CRUZ"
          ],
          [
           "PMGD PFV MOYA"
          ],
          [
           "PMGD PFV CORTIJO"
          ],
          [
           "PMGD PFV PEGASUS SOLAR"
          ],
          [
           "PMGD PFV LOS MOLINOS"
          ],
          [
           "PMGD PFV GR PEUMO"
          ],
          [
           "PMGD PFV LA PALMA SOLAR"
          ],
          [
           "PFV CASTILLA"
          ],
          [
           "PFV GUANCHOI"
          ],
          [
           "PMGD PFV LOS MAGNOLIOS SOLAR"
          ],
          [
           "PMGD PFV PARQUE SOLAR MARAMBIO"
          ],
          [
           "PMGD PFV SANTA LUISA"
          ],
          [
           "PMGD PFV ERINOME"
          ],
          [
           "PMGD PFV PACHIRA"
          ],
          [
           "PMGD PFV CONDOR PELVIN"
          ],
          [
           "PMGD PFV FLORENCIA SOLAR"
          ],
          [
           "PMGD PFV EL CASTAÑO"
          ],
          [
           "PMGD PFV SANTA MARGARITA"
          ],
          [
           "PMGD PFV GRANATE"
          ],
          [
           "PMGD PFV COLCHAGUA"
          ],
          [
           "PMGD PFV SAN ANTONIO"
          ],
          [
           "PMGD PFV MELI"
          ],
          [
           "PMGD PFV ASTILLAS"
          ],
          [
           "PMGD PFV GUADALUPE"
          ],
          [
           "PMGD PFV SOLARPARK VILLA ALEMANA"
          ],
          [
           "PMGD PFV SANTA FRANCISCA"
          ],
          [
           "PMGD PFV ESCORIAL DEL VERANO SOLAR"
          ],
          [
           "PMGD PFV PARQUE SOLAR NANCAGUA"
          ],
          [
           "PMGD PFV LOS TAURETES"
          ],
          [
           "PMGD PFV LAS CATITAS"
          ],
          [
           "PMGD PFV EL ZORZAL"
          ],
          [
           "PMGD PFV TARANTO"
          ],
          [
           "PMGD PFV PUELCHE SOLAR"
          ],
          [
           "PMGD PFV NAZARINO DEL VERANO SOLAR"
          ],
          [
           "PMGD PFV FARAMALLA"
          ],
          [
           "PMGD PFV LOS TORDOS"
          ],
          [
           "PMGD PFV LOICA"
          ],
          [
           "PMGD PFV ICB"
          ],
          [
           "PMGD PFV ANAKENA"
          ],
          [
           "PMGD PFV PASTRAN"
          ],
          [
           "PMGD PFV SUNHUNTER"
          ],
          [
           "PMGD PFV HUAQUELON"
          ],
          [
           "PMGD PFV GABRIELA"
          ],
          [
           "PMGD PFV DON ENRIQUE"
          ],
          [
           "PMGD PFV MITCHI"
          ],
          [
           "PMGD PFV PARQUE VALPARAISO"
          ],
          [
           "PMGD PFV PARQUE PVP ITIHUE"
          ],
          [
           "PMGD PFV EL MONTE"
          ],
          [
           "PMGD PFV REXNER"
          ],
          [
           "PMGD PFV PLAYERON"
          ],
          [
           "PMGD PFV LAS TORTOLAS DEL VERANO"
          ],
          [
           "PMGD PFV FARDELA NEGRA"
          ],
          [
           "PMGD PFV SAN CARLOS SOLAR"
          ],
          [
           "PMGD PFV PIDUCO"
          ],
          [
           "PMGD PFV GABARDO DEL VERANO SOLAR"
          ],
          [
           "PMGD PFV GUARANA"
          ],
          [
           "PMGD PFV PARQUE FOTOVOLTAICO EL SHARON"
          ],
          [
           "PMGD PFV RINCONADA ALCONES"
          ],
          [
           "PMGD PFV CARACOLES"
          ],
          [
           "PMGD PFV SAN EMILIO SOLAR I"
          ],
          [
           "PMGD PFV NEWENTUN"
          ],
          [
           "PMGD PFV SANTA ELIZABETH"
          ],
          [
           "PMGD PFV TREBO"
          ],
          [
           "PMGD PFV EL HUASO"
          ],
          [
           "PMGD PFV MANAO"
          ],
          [
           "PMGD PFV CENTRAL LLIU LLIU (FOSTER)"
          ],
          [
           "PMGD PFV LA COLONIA"
          ],
          [
           "PMGD PFV VENTISQUERO SOLAR"
          ],
          [
           "PMGD PFV PSF PUANGUE"
          ],
          [
           "PMGD PFV MANDINGA"
          ],
          [
           "PMGD PFV LAS CACHAÑAS"
          ],
          [
           "PMGD PFV EL TIUQUE"
          ],
          [
           "PMGD PFV IDAHUE DEL VERANO SOLAR"
          ],
          [
           "PMGD PFV CANTERA"
          ],
          [
           "PMGD PFV PARANAL"
          ],
          [
           "PMGD PFV ARMAZONES"
          ],
          [
           "PMGD PFV CABILDO SUNLIGHT"
          ],
          [
           "PMGD PFV DUQUECO SOLAR"
          ],
          [
           "PMGD PFV HELIOS"
          ],
          [
           "PMGD PFV PSF HORIZONTE"
          ],
          [
           "PMGD PFV GR ALCON SOLAR"
          ],
          [
           "PMGD PFV LOCKMA"
          ],
          [
           "PMGD PFV CKILIR"
          ],
          [
           "PMGD PFV SAN JOSE II"
          ],
          [
           "PMGD PFV AVEL SOLAR"
          ],
          [
           "PMGD PFV PALTO SUNLIGHT"
          ],
          [
           "PMGD PFV NIHUE"
          ],
          [
           "PMGD PFV COLTAUCO ALMENDRO"
          ],
          [
           "PMGD PFV PEQUEN"
          ],
          [
           "PMGD PFV SLK CB NUEVE"
          ],
          [
           "PMGD PFV ITAHUE SOLAR"
          ],
          [
           "PMGD PFV JAVIERA CARRERA"
          ],
          [
           "PMGD PFV MILAN A"
          ],
          [
           "PMGD PFV SOLAR TORINO"
          ],
          [
           "PMGD PFV SANTA EMILIA"
          ],
          [
           "PMGD PFV LITORAL SUNLIGHT"
          ],
          [
           "PMGD PFV PICUNCHE"
          ],
          [
           "PMGD PFV NAN"
          ],
          [
           "PMGD PFV LOS JOTES"
          ],
          [
           "PMGD PFV BERGAMO"
          ],
          [
           "PMGD PFV LAS PALMAS DEL VERANO SOLAR"
          ],
          [
           "PMGD PFV VILLA MOSCOSO"
          ],
          [
           "PMGD PFV MARAÑON"
          ],
          [
           "PMGD PFV PARQUE EL INGENIO"
          ],
          [
           "PMGD PFV RDCL SAN"
          ],
          [
           "PMGD PFV CAÑONES SUNLIGHT"
          ],
          [
           "PMGD PFV TIERRA"
          ],
          [
           "PMGD PFV SAMO BAJO"
          ],
          [
           "PMGD PFV PARQUE SOLAR FOTOVOLTAICO LA VICTORIA"
          ],
          [
           "PMGD PFV AROMO DEL VERANO SOLAR"
          ],
          [
           "PMGD PFV LO CHACON"
          ],
          [
           "PMGD PFV PARQUE SOLAR RIO PEUCO"
          ],
          [
           "PMGD PFV LIQUIDAMBAR"
          ],
          [
           "PMGD PFV BULNES LOS BARONES"
          ],
          [
           "PMGD PFV PARQUE SOLAR EL OLIVAR"
          ],
          [
           "PMGD PFV PSF CHAMPA"
          ],
          [
           "PMGD PFV CLEMENTINA"
          ],
          [
           "PMGD PFV CAUQUENES"
          ],
          [
           "PMGD PFV PELUMPEN SOLAR"
          ],
          [
           "PMGD PFV PARQUE SOLAR EL RECONQUISTADOR"
          ],
          [
           "PMGD PFV RATULEMUS"
          ],
          [
           "PMGD PFV DON MARTIN"
          ],
          [
           "PMGD PFV MAIKONO"
          ],
          [
           "PMGD PFV ALBOR SOLAR"
          ],
          [
           "PMGD PFV VIOLETA"
          ],
          [
           "PMGD PFV CABRERO SOLAR"
          ],
          [
           "PMGD PFV ROSARIO"
          ],
          [
           "PMGD PFV COLINA"
          ],
          [
           "PMGD PFV TALLADO"
          ],
          [
           "PMGD PFV PSF LA GAMBOINA"
          ],
          [
           "PMGD PFV PATRICIA DEL VERANO SOLAR"
          ],
          [
           "PMGD PFV PSF COYUNCHE"
          ],
          [
           "PMGD PFV AYLA SOLAR"
          ],
          [
           "PMGD PFV LAS BANDURRIAS"
          ],
          [
           "PMGD PFV MALLOCO"
          ],
          [
           "PMGD PFV DOÑA IGNA"
          ],
          [
           "PMGD PFV INDEPENDENCIA"
          ],
          [
           "PMGD PFV OLIVIER"
          ],
          [
           "PMGD PFV OLIVIA"
          ],
          [
           "PMGD PFV LOS NOGALES"
          ],
          [
           "PMGD PFV EL GAVIOTIN"
          ],
          [
           "PMGD PFV REN"
          ],
          [
           "PMGD PFV RIMINI"
          ],
          [
           "PMGD PFV QUEMADOS"
          ],
          [
           "PMGD PFV PSF EL PERAL"
          ],
          [
           "PMGD PFV EL CHERCAN"
          ],
          [
           "PMGD PFV LOS CISNES"
          ]
         ],
         "hovertemplate": "<b>%{hovertext}</b><br><br>Latitud=%{lat}<br>Longitud=%{lon}<br>Nombre=%{customdata[0]}<extra></extra>",
         "hovertext": [
          "PFV SDGX01",
          "PFV LLANO DE LLAMPOS",
          "PFV SAN ANDRES",
          "PFV DIEGO DE ALMAGRO",
          "PMGD PFV SANTA CECILIA",
          "PFV LALACKAMA",
          "PFV CHAÑARES",
          "PFV SALVADOR",
          "PMGD PFV LAS TERRAZAS",
          "PMGD PFV PAMA",
          "PMGD PFV LOMAS COLORADAS",
          "PMGD PFV TAMBO REAL",
          "PFV JAVIERA",
          "PFV LUZ DEL NORTE",
          "PMGD PFV HORNITOS",
          "PFV PILAR LOS AMARILLOS",
          "PFV PAMPA SOLAR NORTE",
          "PMGD PFV LUNA DEL NORTE",
          "PFV CARRERA PINTO",
          "PMGD PFV SOL DEL NORTE",
          "PFV LALACKAMA II",
          "PFV LA SILLA",
          "PFV QUILAPILUN",
          "PMGD PFV LA CHAPEANA",
          "PMGD PFV  LAS MOLLACAS",
          "PFV LOS LOROS",
          "PFV CONEJO SOLAR",
          "PMGD PFV LAGUNILLA",
          "PMGD PFV TILTIL",
          "PFV PILOTO SOLAR CARDONES",
          "PFV SANTIAGO SOLAR",
          "PMGD PFV BELLAVISTA",
          "PMGD PFV SANTA JULIA",
          "PFV ANDES SOLAR",
          "PFV PAMPA CAMARONES",
          "PFV EL AGUILA",
          "PFV MARIA ELENA",
          "PFV FINIS TERRAE",
          "PFV JAMA",
          "PFV POZO ALMONTE SOLAR II",
          "PFV POZO ALMONTE SOLAR III",
          "PFV LA HUAYCA II",
          "PMGD PFV CHUCHIÑI",
          "PMGD PFV EL DIVISADERO",
          "PFV EL ROMERO",
          "PFV DOÑA CARMEN SOLAR",
          "PFV EL PELICANO",
          "PMGD PFV CORDILLERILLA SOLAR",
          "PMGD PFV ALTURAS DE OVALLE",
          "PMGD PFV HORMIGA SOLAR",
          "PMGD PFV SAN PEDRO",
          "PMGD PFV ÑILHUE",
          "PMGD PFV EL BOCO",
          "PMGD PFV EL SAUCE",
          "PMGD PFV EL ROBLE",
          "PMGD PFV EL LAUREL",
          "PMGD PFV LIRIO DEL CAMPO",
          "PFV URIBE SOLAR",
          "PFV BOLERO",
          "PMGD PFV LA ESPERANZA II",
          "PMGD PFV CUZ CUZ",
          "PMGD PFV MARCHIGUE II",
          "PMGD PFV LOS PUQUIOS",
          "PMGD PFV PAS1",
          "PMGD PFV PICA",
          "PMGD PFV CALAMA SOLAR",
          "PMGD PFV LAS TURCAS",
          "PFV ANTAY",
          "PFV CERRO DOMINADOR",
          "PFV PUERTO SECO SOLAR",
          "PMGD PFV SAN FRANCISCO",
          "PMGD PFV QUINTA SOLAR",
          "PMGD PFV VALLE DE LA LUNA II",
          "PMGD PFV FRANCISCO",
          "PMGD PFV PANQUEHUE II",
          "PMGD PFV EL QUELTEHUE",
          "PMGD PFV SANTUARIO SOLAR",
          "PMGD PFV DON EUGENIO",
          "PMGD PFV EL PILPEN",
          "PMGD PFV LA MANGA",
          "PMGD PFV LA FRONTERA",
          "PMGD PFV CHIMBARONGO",
          "PFV HUATACONDO",
          "PMGD PFV EL CERNICALO II",
          "PMGD PFV PORTEZUELO",
          "PMGD PFV LOS GORRIONES",
          "PMGD PFV EL CERNICALO",
          "PMGD PFV HOMERO SOLAR",
          "PMGD PFV CABILSOL",
          "PMGD PFV DIEGO DE ALMAGRO SOLAR",
          "PMGD PFV EL PITIO",
          "PMGD PFV PERALILLO",
          "PMGD PFV AMPARO DEL SOL",
          "PMGD PFV MOSTAZAL",
          "PMGD PFV CHANCON",
          "PMGD PFV LA ACACIA",
          "PMGD PFV LUDERS",
          "PMGD PFV OVEJERIA",
          "PMGD PFV LOS PATOS",
          "PMGD PFV OCOA",
          "PMGD PFV TALHUEN",
          "PMGD PFV LOS LIBERTADORES",
          "PMGD PFV SANTA LAURA",
          "PMGD PFV CATAN SOLAR",
          "PMGD PFV VILLA PRAT",
          "PMGD PFV LAS PALOMAS",
          "PMGD PFV EL PICURIO",
          "PMGD PFV EL CHINCOL",
          "PMGD PFV ALTO SOLAR",
          "PMGD PFV ALICAHUE",
          "PMGD PFV ENCON SOLAR",
          "PMGD PFV CINTAC",
          "PMGD PFV OLIVILLO",
          "PMGD PFV PIQUERO",
          "PMGD PFV VALLE SOLAR ESTE II",
          "PMGD PFV VALLE SOLAR OESTE II",
          "PMGD PFV EL QUEMADO",
          "PMGD PFV RODEO",
          "PMGD PFV EL QUEULE",
          "PMGD PFV MALAQUITA SOLAR II",
          "PMGD PFV PUNTA BAJA SOLAR",
          "PMGD PFV CACHIYUYO SOLAR II",
          "PMGD PFV LA BLANQUINA",
          "PMGD PFV CALLE LARGA",
          "PMGD PFV MARIN",
          "PMGD PFV VITUCO 2B",
          "PMGD PFV ARIZTIA",
          "PFV ALMEYDA",
          "PMGD PFV LO SIERRA",
          "PMGD PFV CRUCERO",
          "PMGD PFV PIRQUE",
          "PMGD PFV POBLACION",
          "PMGD PFV LA LAJUELA",
          "PMGD PFV GR SANTA ROSA",
          "PMGD PFV PEDREROS SOLAR",
          "PMGD PFV SANTA CLARA",
          "PMGD PFV LIPANGUE",
          "PMGD PFV ALTOS DE TILTIL",
          "PMGD PFV LOS PERALES",
          "PMGD PFV SANTA ADRIANA",
          "PMGD PFV TRICAHUE II",
          "PMGD PFV CASUTO",
          "PMGD PFV ROVIAN",
          "PMGD PFV NORTE CHICO",
          "PMGD PFV RANGUIL",
          "PMGD PFV CHALINGA SOLAR",
          "PMGD PFV CRUZ SOLAR",
          "PMGD PFV ILLAPEL 5X",
          "PMGD PFV LAS CODORNICES",
          "PMGD PFV EL CONDOR",
          "PMGD PFV TALCA",
          "PMGD PFV MONTT SOLAR",
          "PFV GRANJA SOLAR",
          "PMGD PFV RLA SOLAR",
          "PMGD PFV CANESA SOLAR",
          "PMGD PFV LAS PERDICES",
          "PFV ANDES SOLAR II",
          "PMGD PFV MARCHIHUE VII",
          "PMGD PFV DOÑIHUE",
          "PMGD PFV JAURURO SOLAR",
          "PMGD PFV TUCUQUERE",
          "PMGD PFV JOSE SOLER MALLAFRE",
          "PMGD PFV LAS LECHUZAS",
          "PMGD PFV PLACILLA SOLAR",
          "PFV SANTA ISABEL",
          "PMGD PFV VILLA SECA",
          "PMGD PFV LUCE SOLAR",
          "PMGD PFV LA LIGUA",
          "PFV USYA",
          "PMGD PFV SAN ISIDRO",
          "PMGD PFV LAS MERCEDES",
          "PMGD PFV BELLAVISTA 1",
          "PFV NUEVO QUILLAGUA",
          "PMGD PFV CITRINO",
          "PMGD PFV ECLIPSE SOLAR",
          "PMGD PFV PILPILEN",
          "PFV ATACAMA SOLAR II",
          "PFV SAN PEDRO",
          "PMGD LORETO SOLAR",
          "PMGD PFV EL ESTERO",
          "PMGD PFV RINCONADA",
          "PMGD PFV LO MIRANDA",
          "PMGD PFV KONDA",
          "PMGD PFV LOS PALTOS",
          "PMGD PFV LAS ROJAS",
          "PFV LA HUELLA",
          "PMGD PFV GUADALAO",
          "PFV RIO ESCONDIDO",
          "PFV AZABACHE",
          "PMGD PFV PARAGUAY",
          "PFV CAMPOS DEL SOL",
          "PFV CAPRICORNIO",
          "PMGD PFV RAUQUEN",
          "PMGD PFV LA ESTANCIA",
          "PMGD PFV LAS CHACRAS",
          "PMGD PFV CHACABUCO",
          "PMGD PFV VILLA CRUZ",
          "PFV MALGARIDA",
          "PMGD PFV PULLALLI SOLAR",
          "PMGD PFV MARIA PINTO",
          "PMGD PFV TRICA-DOS",
          "PMGD PFV LLANOS DE POTROSO",
          "PMGD PFV CATEMU",
          "PMGD PFV EL CHUCAO",
          "PMGD PFV JAHUEL",
          "PMGD PFV DARLIN SOLAR",
          "PMGD PFV UTFSM VALPARAISO VALDES",
          "PMGD PFV UTFSM VIÑA DEL MAR",
          "PMGD PFV COVADONGA",
          "PMGD PFV GIRASOLES",
          "PMGD PFV ANTONIA SOLAR",
          "PMGD PFV PARQUE SOLAR SANTA FE",
          "PMGD PFV ÑIQUEN",
          "PMGD PFV DON MARIANO",
          "PMGD PFV VILLA ALEGRE",
          "PMGD PFV GR LEMU",
          "PMGD PFV LA CHIMBA BIS",
          "PFV SOL DEL DESIERTO",
          "PFV LA CRUZ SOLAR",
          "PFV SOL DE LILA",
          "PMGD PFV EL RESPLANDOR",
          "PMGD PFV SANTA AMELIA",
          "PMGD PFV EL LITRE SOLAR",
          "PMGD PFV SOL DE SEPTIEMBRE",
          "PMGD PFV TREBAL SOLAR",
          "PMGD PFV GRANADA",
          "PMGD PFV  ARGOMEDO",
          "PMGD PFV COCHARCAS",
          "PMGD PFV VICTORIA",
          "PFV SOL DE LOS ANDES",
          "PMGD  PFV PLAYERO",
          "PMGD PFV FILOMENA SOLAR",
          "PMGD PFV PUENTE SOLAR",
          "PMGD PFV PEPA SOLAR",
          "PMGD PFV EL GUANACO SOLAR",
          "PMGD PFV CIPRES",
          "PFV DE LOS ANDES",
          "PMGD PFV LAS TORCAZAS",
          "PFV SOL DEL NORTE",
          "PMGD PFV LOS TILOS",
          "PMGD PFV LAS TORTOLAS",
          "PMGD PFV PARQUE SOLAR BICENTENARIO",
          "PMGD PFV  COCINILLAS",
          "PMGD PFV CANELILLO",
          "PMGD PFV CAIMI",
          "PMGD PFV QUILLAY",
          "PMGD PFV  SANTA CAROLINA",
          "PMGD PFV CANDELARIA SOLAR",
          "PFV DOMEYKO",
          "PMGD PFV DON JORGE (EX PERALILLO)",
          "PMGD PFV PITRA",
          "PMGD PFV PARQUE SOLAR SAN JAVIER",
          "PMGD PFV EL ROMERAL",
          "PMGD PFV PLAYERITO",
          "PMGD PFV GR RAULI",
          "PMGD PFV SANTA INES SOLAR",
          "PMGD PFV PARQUE SOLAR MECO CHILLAN",
          "PMGD PFV QUINANTU SOLAR",
          "PMGD PFV MERCURIO SUR",
          "PMGD PFV SATURNO NORTE",
          "PFV VALLE ESCONDIDO",
          "PFV PAMPA TIGRE",
          "PMGD PFV DON ANDRONICO",
          "PMGD PFV EL SALITRAL",
          "PMGD PFV PAINE",
          "PMGD PFV PARQUE SOLAR OVALLE NORTE",
          "PMGD PFV TRINIDAD",
          "PMGD PFV PARQUE SOLAR LA MURALLA",
          "PMGD PFV LUMBRERAS",
          "PFV TAMAYA SOLAR",
          "PMGD PFV LINGUE",
          "PMGD PFV EL PIUQUEN",
          "PMGD PFV LA FORESTA",
          "PMGD PFV LAS MAJADAS",
          "PMGD PFV VENTURADA",
          "PMGD PFV VILLA SOLAR",
          "PMGD PFV PARQUE ROMERIA",
          "PMGD PFV PARQUE SOLAR MEMBRILLO",
          "PMGD PFV BERRUECO",
          "PMGD PFV TAMARUGO",
          "PMGD PFV CASABERMEJA",
          "PFV VALLE DEL SOL",
          "PMGD PFV SAN CAMILO",
          "PMGD PFV DADINCO",
          "PMGD PFV KAUFMANN",
          "PMGD PFV CURACAVI",
          "PMGD PFV EL FLAMENCO",
          "PMGD PFV PARQUE SOLAR ALCALDESA",
          "PFV ANDES SOLAR II-B",
          "PFV TENO SOLAR",
          "PFV MACHICURA",
          "PFV CARACAS II",
          "PMGD PFV SANTA RITA",
          "PMGD PFV SDSI",
          "PMGD PFV NAHUEN",
          "PMGD PFV PRETTY FIELD",
          "PMGD PFV PARQUE PENCAHUE ESTE",
          "PMGD PFV PARQUE CURICURA",
          "PMGD PFV PARQUE ALHUE",
          "PFV DIEGO DE ALMAGRO SUR",
          "PMGD PFV LO BOZA",
          "PFV COYA",
          "PMGD PFV GR PITAO",
          "PMGD PFV LLAY LLAY",
          "PMGD PFV LINARES SOLAR",
          "PMGD PFV LOS LAGOS",
          "PMGD PFV RINCONADA NORTE (SLK 808)",
          "PMGD PFV AVILES",
          "PMGD PFV PEÑAFLOR SOLAR",
          "PMGD PFV SALERNO SOLAR",
          "PMGD PFV LAS CABRAS",
          "PMGD PFV ESFENA",
          "PMGD PFV VICENTE SOLAR",
          "PMGD PFV MUTUPIN",
          "PMGD PFV ORION SOLAR",
          "PMGD PFV QUETENA",
          "PMGD PFV HUAPE",
          "PMGD PFV SANTA ESTER",
          "PMGD PFV PARQUE PANGUILEMO AEROPUERTO",
          "PMGD PFV PARQUE SANTA CRUZ",
          "PMGD PFV MOYA",
          "PMGD PFV CORTIJO",
          "PMGD PFV PEGASUS SOLAR",
          "PMGD PFV LOS MOLINOS",
          "PMGD PFV GR PEUMO",
          "PMGD PFV LA PALMA SOLAR",
          "PFV CASTILLA",
          "PFV GUANCHOI",
          "PMGD PFV LOS MAGNOLIOS SOLAR",
          "PMGD PFV PARQUE SOLAR MARAMBIO",
          "PMGD PFV SANTA LUISA",
          "PMGD PFV ERINOME",
          "PMGD PFV PACHIRA",
          "PMGD PFV CONDOR PELVIN",
          "PMGD PFV FLORENCIA SOLAR",
          "PMGD PFV EL CASTAÑO",
          "PMGD PFV SANTA MARGARITA",
          "PMGD PFV GRANATE",
          "PMGD PFV COLCHAGUA",
          "PMGD PFV SAN ANTONIO",
          "PMGD PFV MELI",
          "PMGD PFV ASTILLAS",
          "PMGD PFV GUADALUPE",
          "PMGD PFV SOLARPARK VILLA ALEMANA",
          "PMGD PFV SANTA FRANCISCA",
          "PMGD PFV ESCORIAL DEL VERANO SOLAR",
          "PMGD PFV PARQUE SOLAR NANCAGUA",
          "PMGD PFV LOS TAURETES",
          "PMGD PFV LAS CATITAS",
          "PMGD PFV EL ZORZAL",
          "PMGD PFV TARANTO",
          "PMGD PFV PUELCHE SOLAR",
          "PMGD PFV NAZARINO DEL VERANO SOLAR",
          "PMGD PFV FARAMALLA",
          "PMGD PFV LOS TORDOS",
          "PMGD PFV LOICA",
          "PMGD PFV ICB",
          "PMGD PFV ANAKENA",
          "PMGD PFV PASTRAN",
          "PMGD PFV SUNHUNTER",
          "PMGD PFV HUAQUELON",
          "PMGD PFV GABRIELA",
          "PMGD PFV DON ENRIQUE",
          "PMGD PFV MITCHI",
          "PMGD PFV PARQUE VALPARAISO",
          "PMGD PFV PARQUE PVP ITIHUE",
          "PMGD PFV EL MONTE",
          "PMGD PFV REXNER",
          "PMGD PFV PLAYERON",
          "PMGD PFV LAS TORTOLAS DEL VERANO",
          "PMGD PFV FARDELA NEGRA",
          "PMGD PFV SAN CARLOS SOLAR",
          "PMGD PFV PIDUCO",
          "PMGD PFV GABARDO DEL VERANO SOLAR",
          "PMGD PFV GUARANA",
          "PMGD PFV PARQUE FOTOVOLTAICO EL SHARON",
          "PMGD PFV RINCONADA ALCONES",
          "PMGD PFV CARACOLES",
          "PMGD PFV SAN EMILIO SOLAR I",
          "PMGD PFV NEWENTUN",
          "PMGD PFV SANTA ELIZABETH",
          "PMGD PFV TREBO",
          "PMGD PFV EL HUASO",
          "PMGD PFV MANAO",
          "PMGD PFV CENTRAL LLIU LLIU (FOSTER)",
          "PMGD PFV LA COLONIA",
          "PMGD PFV VENTISQUERO SOLAR",
          "PMGD PFV PSF PUANGUE",
          "PMGD PFV MANDINGA",
          "PMGD PFV LAS CACHAÑAS",
          "PMGD PFV EL TIUQUE",
          "PMGD PFV IDAHUE DEL VERANO SOLAR",
          "PMGD PFV CANTERA",
          "PMGD PFV PARANAL",
          "PMGD PFV ARMAZONES",
          "PMGD PFV CABILDO SUNLIGHT",
          "PMGD PFV DUQUECO SOLAR",
          "PMGD PFV HELIOS",
          "PMGD PFV PSF HORIZONTE",
          "PMGD PFV GR ALCON SOLAR",
          "PMGD PFV LOCKMA",
          "PMGD PFV CKILIR",
          "PMGD PFV SAN JOSE II",
          "PMGD PFV AVEL SOLAR",
          "PMGD PFV PALTO SUNLIGHT",
          "PMGD PFV NIHUE",
          "PMGD PFV COLTAUCO ALMENDRO",
          "PMGD PFV PEQUEN",
          "PMGD PFV SLK CB NUEVE",
          "PMGD PFV ITAHUE SOLAR",
          "PMGD PFV JAVIERA CARRERA",
          "PMGD PFV MILAN A",
          "PMGD PFV SOLAR TORINO",
          "PMGD PFV SANTA EMILIA",
          "PMGD PFV LITORAL SUNLIGHT",
          "PMGD PFV PICUNCHE",
          "PMGD PFV NAN",
          "PMGD PFV LOS JOTES",
          "PMGD PFV BERGAMO",
          "PMGD PFV LAS PALMAS DEL VERANO SOLAR",
          "PMGD PFV VILLA MOSCOSO",
          "PMGD PFV MARAÑON",
          "PMGD PFV PARQUE EL INGENIO",
          "PMGD PFV RDCL SAN",
          "PMGD PFV CAÑONES SUNLIGHT",
          "PMGD PFV TIERRA",
          "PMGD PFV SAMO BAJO",
          "PMGD PFV PARQUE SOLAR FOTOVOLTAICO LA VICTORIA",
          "PMGD PFV AROMO DEL VERANO SOLAR",
          "PMGD PFV LO CHACON",
          "PMGD PFV PARQUE SOLAR RIO PEUCO",
          "PMGD PFV LIQUIDAMBAR",
          "PMGD PFV BULNES LOS BARONES",
          "PMGD PFV PARQUE SOLAR EL OLIVAR",
          "PMGD PFV PSF CHAMPA",
          "PMGD PFV CLEMENTINA",
          "PMGD PFV CAUQUENES",
          "PMGD PFV PELUMPEN SOLAR",
          "PMGD PFV PARQUE SOLAR EL RECONQUISTADOR",
          "PMGD PFV RATULEMUS",
          "PMGD PFV DON MARTIN",
          "PMGD PFV MAIKONO",
          "PMGD PFV ALBOR SOLAR",
          "PMGD PFV VIOLETA",
          "PMGD PFV CABRERO SOLAR",
          "PMGD PFV ROSARIO",
          "PMGD PFV COLINA",
          "PMGD PFV TALLADO",
          "PMGD PFV PSF LA GAMBOINA",
          "PMGD PFV PATRICIA DEL VERANO SOLAR",
          "PMGD PFV PSF COYUNCHE",
          "PMGD PFV AYLA SOLAR",
          "PMGD PFV LAS BANDURRIAS",
          "PMGD PFV MALLOCO",
          "PMGD PFV DOÑA IGNA",
          "PMGD PFV INDEPENDENCIA",
          "PMGD PFV OLIVIER",
          "PMGD PFV OLIVIA",
          "PMGD PFV LOS NOGALES",
          "PMGD PFV EL GAVIOTIN",
          "PMGD PFV REN",
          "PMGD PFV RIMINI",
          "PMGD PFV QUEMADOS",
          "PMGD PFV PSF EL PERAL",
          "PMGD PFV EL CHERCAN",
          "PMGD PFV LOS CISNES"
         ],
         "lat": [
          -30.22716271774383,
          -27.11746051288061,
          -27.2542244114542,
          -26.37958872407634,
          -29.10679401016487,
          -25.12076802615377,
          -26.37476489442689,
          -26.31411658894035,
          -27.62839513489837,
          -31.18638186714545,
          -31.18624344116029,
          -30.04849157572968,
          -26.30198402508037,
          -27.02711302225525,
          -27.73468779994743,
          -26.31632796424281,
          -25.53517298268074,
          -30.04030056889473,
          -27.00390544223167,
          -30.04022398840077,
          -25.10971896824012,
          -29.21136638455013,
          -33.10149006869096,
          -30.51547962482755,
          -30.67488964403706,
          -27.85712024747231,
          -25.54454632110967,
          -30.50755134106617,
          -32.95778399105179,
          -27.48760260591396,
          -33.08200987157075,
          -31.66534563645993,
          -32.30171969203355,
          -24.01307060851595,
          -22.16518901792205,
          -18.44582260800662,
          -22.22148491593693,
          -22.33267750933941,
          -22.57634800121514,
          -20.27448398020774,
          -20.25064666686241,
          -20.45220202951646,
          -31.74642809688238,
          -30.84609597225095,
          -29.1098609554809,
          -32.479754716797,
          -29.14625361597976,
          -35.1627947690005,
          -30.55444356170664,
          -32.71603893498993,
          -33.90203084303747,
          -32.71055263436865,
          -32.85474199330987,
          -34.08110796980566,
          -34.03699657766551,
          -33.68005086564848,
          -33.59551707291439,
          -23.56187093117946,
          -23.47215993015795,
          -34.33610320817688,
          -31.6632017506416,
          -34.40657099814634,
          -20.4373020168585,
          -20.26730899674103,
          -20.49921268907462,
          -22.44411496177112,
          -33.80313303081159,
          -27.49413016011925,
          -22.7898080060747,
          -22.45088565856453,
          -33.04009575449488,
          -33.02892180850094,
          -33.28598884033445,
          -34.00026287634141,
          -32.77755317988603,
          -33.56064518484285,
          -32.89181499902391,
          -34.2650080914534,
          -33.55879760616815,
          -33.91333464669561,
          -34.82617929756556,
          -34.82340803449697,
          -21.1316155218387,
          -36.43132744890865,
          -34.26056513958796,
          -36.03390477282359,
          -36.43209432152391,
          -33.96414071786408,
          -32.46737001039653,
          -26.37055703600872,
          -35.97633499783594,
          -35.03686001674305,
          -30.61270828985823,
          -33.9840549989075,
          -34.09074601145292,
          -34.48563795446633,
          -33.99472201813995,
          -33.09481302319629,
          -35.33305695142468,
          -32.79601276473422,
          -30.56018299320996,
          -34.09023300800989,
          -32.39980101303371,
          -32.7285419477337,
          -35.11302895183385,
          -36.78101649077367,
          -34.79902038431467,
          -36.28440343051459,
          -33.89637478327452,
          -32.41709763781113,
          -32.72781538329838,
          -33.51383297060882,
          -33.28965945633888,
          -33.29729665957652,
          -27.35352812247265,
          -27.35155532110812,
          -32.43636319026971,
          -32.76988828394541,
          -34.22170632525248,
          -27.84260815937334,
          -29.35864463310202,
          -27.84078145060116,
          -34.06534747454848,
          -32.88420120028552,
          -32.78726875146728,
          -34.29106463190016,
          -32.31842489341264,
          -26.19866370217763,
          -33.98403942095188,
          -34.47456928462224,
          -33.68138561293937,
          -34.45733855103138,
          -34.64803439361016,
          -34.00228246345173,
          -32.80221131155835,
          -30.60875157012252,
          -33.33885160694923,
          -33.09695307629381,
          -33.14692039685383,
          -33.69280623874297,
          -34.35934147354188,
          -32.8511877224409,
          -34.64970631749197,
          -32.09904462895777,
          -34.80470901982072,
          -31.76106588619506,
          -32.7939861780574,
          -31.61278263200988,
          -36.45182044639723,
          -34.87800301293545,
          -35.46289531538653,
          -32.32481310422199,
          -20.81001750677095,
          -33.90104348330856,
          -31.72044208940959,
          -35.35765549121709,
          -24.01701447125551,
          -34.40582288928675,
          -34.28297486917954,
          -32.45377219283061,
          -32.78414073797665,
          -34.8985180717209,
          -36.49669349904668,
          -34.60688933237355,
          -22.0341075231044,
          -35.86173123439225,
          -33.90994935980451,
          -32.4303101655714,
          -22.4834443603214,
          -34.27928269914892,
          -34.27752122184884,
          -20.79707414963784,
          -21.65866409430091,
          -33.5693667300533,
          -33.90636625449243,
          -34.15320022203491,
          -20.52499834876127,
          -22.55045253583929,
          -34.24349117661693,
          -34.22058010190303,
          -34.40720422388729,
          -34.19893106845061,
          -32.77695432336483,
          -32.39779879726736,
          -29.84940754993765,
          -29.1414999945203,
          -34.2534791025528,
          -27.88199146327224,
          -22.48000799761155,
          -35.11348251581792,
          -27.05293705633976,
          -23.41607336372678,
          -34.9142956002749,
          -34.04214224409488,
          -32.45377219283061,
          -32.95473847636502,
          -35.59056852426725,
          -26.26945200473406,
          -32.4553222221767,
          -33.51299448432969,
          -35.59838771767996,
          -29.7545541285647,
          -32.73374500763812,
          -36.02133952022183,
          -32.68397156789117,
          -33.7563655350251,
          -33.0346556225868,
          -33.03586483522916,
          -26.43250794499297,
          -33.40912187457697,
          -34.39602251321968,
          -35.62106383735141,
          -36.29179186334937,
          -34.48618198884997,
          -35.6917814040395,
          -35.61152193435765,
          -30.6524215176321,
          -22.1833659814599,
          -22.25956171414361,
          -24.03330832166525,
          -37.03927450356566,
          -34.41174270779485,
          -33.12928121747531,
          -33.30015892230495,
          -33.51560518757361,
          -35.80964183309934,
          -34.40736356325657,
          -36.52750905876583,
          -22.46686128329062,
          -26.3189216597938,
          -35.87728305349739,
          -32.70834513463022,
          -33.55141695896972,
          -33.75625465376923,
          -33.56269720151816,
          -35.81447042458245,
          -24.02169440593205,
          -34.34631961677062,
          -24.01572222622301,
          -32.79986144204451,
          -36.76818133076326,
          -36.14096074602157,
          -31.63080058827805,
          -31.70226379868497,
          -33.29450623737848,
          -33.6412856070594,
          -34.68382514508264,
          -34.02208849281503,
          -24.06000000735746,
          -34.4848765942407,
          -33.36747821984984,
          -35.59264436467041,
          -34.73306638708561,
          -35.87728305349739,
          -35.09543453530807,
          -33.1258525261311,
          -36.74950454967084,
          -35.49708524149264,
          -35.75214793917278,
          -35.74713296455656,
          -27.81158821955311,
          -23.8555411393977,
          -33.99086420867334,
          -31.20189142572979,
          -22.48125529235532,
          -30.56898264773435,
          -34.33742343586408,
          -34.4514169772959,
          -33.64533938256595,
          -22.16878269980777,
          -33.38114640550629,
          -36.77387985804868,
          -34.95931988483264,
          -30.67115102925875,
          -36.67008471875242,
          -35.10825256276812,
          -34.98526401860974,
          -34.79128669113722,
          -36.66745877111462,
          -20.36815123287063,
          -33.52169848753859,
          -22.33361669757502,
          -35.12084635948007,
          -36.52649479301785,
          -33.29749988602341,
          -33.33837363980606,
          -35.68543928950985,
          -36.24239403930222,
          -24.00861960877355,
          -34.86728057668433,
          -35.72980656118335,
          -31.87814801965287,
          -36.54577938027744,
          -37.53711622151017,
          -33.74964575125099,
          -30.6963068808915,
          -35.41679593814107,
          -34.92672799960054,
          -33.99889040387263,
          -26.58852196979969,
          -33.38202269111748,
          -22.25000004325692,
          -34.82928697133241,
          -32.8492764330751,
          -35.85336968498206,
          -34.25587569599469,
          -32.65775438860013,
          -33.92627566939496,
          -33.56663910478478,
          -33.90136521570483,
          -34.34854993357143,
          -32.23641416009489,
          -33.67982360270287,
          -36.43508347290241,
          -36.59512240803287,
          -22.45606855083057,
          -36.60767878461824,
          -36.48713887690766,
          -35.38550818245805,
          -34.62377959072393,
          -37.06700996226799,
          -37.10141972138739,
          -36.59522113325909,
          -33.57227277473964,
          -34.4159004774708,
          -36.59749097065001,
          -27.89855291717354,
          -26.2596925904883,
          -33.39085119376853,
          -33.76798378891547,
          -36.45147994644282,
          -35.43884662865076,
          -35.85629709315685,
          -33.62135698556828,
          -31.87946767015256,
          -34.34854993357143,
          -34.4611812871405,
          -30.58776727829914,
          -34.51668392911398,
          -35.84737678995459,
          -34.05306258251556,
          -28.54593581137655,
          -32.84593548599136,
          -33.04675112031904,
          -30.01812431691535,
          -32.74181773925733,
          -34.66480529864933,
          -33.02762742510747,
          -35.80266943016292,
          -35.29978897752724,
          -33.37692043005173,
          -37.52193993337933,
          -33.71306274721751,
          -34.0432484745084,
          -35.47931946078138,
          -35.61212623389024,
          -33.34408258116493,
          -30.62150926441575,
          -30.63579041536372,
          -30.54466270539911,
          -30.82882224499105,
          -29.98509406979546,
          -30.81065362680087,
          -23.44037337881267,
          -32.8375999571225,
          -36.44924082553642,
          -33.67167591764765,
          -32.88815821443935,
          -35.8757109507851,
          -32.88311648427602,
          -33.36215999683326,
          -36.40047873500886,
          -35.42539943654305,
          -33.82425334326726,
          -34.07179827830442,
          -34.07159488424137,
          -34.38276739010504,
          -35.69290310395592,
          -35.00533472100303,
          -34.49513869822979,
          -26.29509086673711,
          -33.66030901502506,
          -32.76584335348691,
          -32.86412365597573,
          -32.91368253301597,
          -33.82048987322923,
          -34.74576509327348,
          -33.6567042487228,
          -33.80275436259443,
          -34.58359086174958,
          -35.61206993332687,
          -34.31070662180347,
          -33.90429402283726,
          -24.63460649540374,
          -24.63460649540374,
          -32.45110701159033,
          -37.53971698041415,
          -32.84354797100143,
          -33.84177140128363,
          -34.38230628942533,
          -23.60361696675486,
          -23.61144507204109,
          -36.49051361600338,
          -37.40502590554567,
          -32.95898082499168,
          -33.96181388072011,
          -34.28090641464521,
          -34.85153337781332,
          -32.66156488313261,
          -35.15944240539448,
          -33.75860106601468,
          -34.8471965644755,
          -34.87325991557873,
          -34.11813180308537,
          -33.41808266337571,
          -34.00295892132148,
          -34.04830322853546,
          -32.46077102838196,
          -34.8471965644755,
          -33.62472493596611,
          -33.08816950447102,
          -28.58385475700742,
          -32.49332633408687,
          -33.01952512836512,
          -32.77218574305915,
          -27.52703817199126,
          -30.55365986737732,
          -36.61882494726185,
          -34.2099472696861,
          -33.98567097946247,
          -33.94019962969914,
          -32.82919663718395,
          -36.82334542482045,
          -37.43039785378426,
          -33.83080035996679,
          -33.12145243069503,
          -35.9289704235834,
          -33.0342451191053,
          -36.21767068167549,
          -35.93894891274,
          -37.59848567500808,
          -32.81888735229924,
          -37.59539838490525,
          -33.75227445997748,
          -37.04023868081209,
          -34.35925117085572,
          -33.03254165522562,
          -23.14227532172774,
          -34.15128338331709,
          -33.70206420081173,
          -37.40441217767032,
          -34.12923773819016,
          -35.168476999978,
          -33.62558405914211,
          -33.58973941003791,
          -33.14584402222325,
          -30.03533981660373,
          -30.0530267227686,
          -30.74146307646315,
          -29.86495767808355,
          -37.69568308511082,
          -33.62797896340224,
          -34.1416691853599,
          -33.74839924109847,
          -34.97939354727337,
          -33.55721334098079
         ],
         "legendgroup": "",
         "lon": [
          -71.09248138126475,
          -70.17114340002928,
          -70.11122075187,
          -70.01941658469924,
          -70.91214599962676,
          -70.303919979504,
          -70.06566199906148,
          -69.86805891303074,
          -70.34099010276283,
          -71.02254999832263,
          -71.02282090787921,
          -70.77011948975503,
          -70.22151202394738,
          -69.89510401471708,
          -70.1911977279595,
          -69.74892702412376,
          -70.17680699770206,
          -70.67997650447631,
          -69.86797220302091,
          -70.68389019087505,
          -70.31009597924337,
          -70.74371533635293,
          -70.65191728785904,
          -71.11029200413337,
          -71.22468614633443,
          -70.1728517943529,
          -70.31335006586771,
          -71.11190223132907,
          -70.82024395551201,
          -70.38501927086801,
          -70.85876899807248,
          -71.2215741416678,
          -71.10233559778732,
          -68.58446982711494,
          -70.08996223017077,
          -69.88665563145635,
          -69.57692992014606,
          -69.52766723315273,
          -68.69498000107805,
          -69.75307797796562,
          -69.74591302405237,
          -69.53406326415622,
          -71.07726253987069,
          -71.12835697030887,
          -70.90888703995259,
          -71.25203583134738,
          -70.87203445999158,
          -71.13255116552128,
          -71.23880218142887,
          -70.72022302470548,
          -71.44153399896749,
          -70.92629529378333,
          -71.24487501303564,
          -71.3730319652874,
          -71.38840647072219,
          -71.021670998086,
          -71.16295948416429,
          -70.21645956933848,
          -69.41353387709258,
          -71.53916448844801,
          -71.21520966159757,
          -71.66669997738542,
          -69.5455249879284,
          -69.75141601448405,
          -69.44901657247021,
          -68.8699859561987,
          -71.2806379831765,
          -70.38034361418717,
          -69.47085301985608,
          -68.86835638247292,
          -70.70381659230718,
          -70.71170621402626,
          -70.84503291562157,
          -70.6309749980321,
          -70.81236977815115,
          -71.2146166241704,
          -70.6883049698571,
          -71.38622620517518,
          -71.24275704622492,
          -71.57292697952798,
          -71.76721514704425,
          -70.96804296242736,
          -69.47270607502446,
          -72.37438343284836,
          -71.57924978326074,
          -71.76100319045791,
          -72.37482579402858,
          -70.640016188948,
          -71.10317700395204,
          -70.06678695925683,
          -71.69455695194489,
          -71.70972097653518,
          -71.32929758173377,
          -70.67245994615892,
          -70.82227697277801,
          -71.08346795110248,
          -70.631841019992,
          -70.76861495964106,
          -71.61249403573795,
          -71.05938564377546,
          -71.25271498717456,
          -70.78311196952106,
          -71.03207799785935,
          -70.60351855752623,
          -71.62693148128253,
          -72.20631422853036,
          -71.06190046468299,
          -71.86056181184846,
          -71.60424945286604,
          -70.89895788181374,
          -70.74849318788914,
          -70.7249129602545,
          -71.3918648107484,
          -71.44695095002169,
          -70.3892105079727,
          -70.39787901758747,
          -71.0172193183911,
          -70.96238434123221,
          -71.39619631391702,
          -70.18092124218431,
          -71.04687405994518,
          -70.21744633826118,
          -70.64945067216635,
          -70.6120917409588,
          -70.73479019758264,
          -71.62458466988015,
          -71.27277784184838,
          -70.0956288825756,
          -71.32908774787073,
          -71.50141335060293,
          -70.6224813360116,
          -71.556426560259,
          -71.39008911205275,
          -71.29135245823237,
          -70.91030968622125,
          -71.41626496076104,
          -70.91736460068587,
          -70.88875088340824,
          -71.30007549692598,
          -70.97138688671933,
          -70.82435637052232,
          -70.71239823945818,
          -71.22512379397992,
          -71.16511642421972,
          -71.76355415355549,
          -70.97238091254555,
          -70.86599156460336,
          -71.14289067298098,
          -72.01813134056707,
          -71.0299571459297,
          -71.55527272425225,
          -71.0680595347375,
          -69.48618434180474,
          -71.42565593966611,
          -71.12923107822327,
          -71.58700169386871,
          -68.5824728772973,
          -71.6161096344186,
          -70.95493464862294,
          -71.27117225736914,
          -70.970585476844,
          -71.03292409423307,
          -72.05755352820657,
          -71.09540784140776,
          -69.60029278214397,
          -71.82923054509992,
          -71.5872510959103,
          -71.23107381871219,
          -68.8478818554238,
          -70.79497980269349,
          -70.80134013250371,
          -69.69207866752609,
          -69.49410307648759,
          -70.89541953010766,
          -71.4264015004331,
          -71.75114951013362,
          -69.44788298857124,
          -68.76746278501133,
          -71.06328826077365,
          -71.40145189103912,
          -70.8169422658097,
          -70.88171779664737,
          -70.70945722392362,
          -71.03240476723148,
          -71.12221621873711,
          -70.89600000992012,
          -71.57196552363364,
          -70.20608149557762,
          -68.8048779955631,
          -71.32707781211887,
          -69.9165337977321,
          -70.18175500058429,
          -71.14458866438221,
          -71.0547256194188,
          -71.27117225736914,
          -70.71135482874656,
          -71.8809440024055,
          -69.96002900745357,
          -71.27173234778272,
          -71.20519802441144,
          -71.5801302487542,
          -70.86156497063027,
          -70.96428963612881,
          -71.9293948196577,
          -70.62171327509023,
          -70.86784348012004,
          -71.59299351290572,
          -71.48538312175121,
          -70.3074342214198,
          -71.07196210411118,
          -70.95370565350503,
          -71.70618239348812,
          -71.7920429151346,
          -70.8172479088908,
          -71.70907017764236,
          -71.79184287158226,
          -71.23449745305943,
          -69.56986880302331,
          -69.61241330883527,
          -68.5774472221656,
          -72.38315686152598,
          -71.30525745590292,
          -70.7780053386444,
          -70.86620818735004,
          -70.84133525017587,
          -71.63224801966143,
          -70.81714153115082,
          -72.09468649702491,
          -68.960471854623,
          -69.92279582773658,
          -72.45035408072678,
          -70.6158600151827,
          -70.84439804112695,
          -70.83314366237488,
          -70.86174467703415,
          -71.63068687174254,
          -68.5993699731958,
          -71.61732874126815,
          -68.59656076031887,
          -71.05811585468608,
          -72.39564195124974,
          -71.8433524696392,
          -71.13229833289246,
          -71.26753158734893,
          -71.40840372860997,
          -71.1661412546339,
          -70.90232769271874,
          -70.62927823168111,
          -69.5800000309211,
          -71.49244534132923,
          -71.58929381541901,
          -71.68413923725304,
          -71.03640879794172,
          -72.45035408072678,
          -71.27775510624018,
          -70.86447229688268,
          -72.13327913921688,
          -71.58046709067577,
          -71.40540822548894,
          -71.40221058231275,
          -70.26781796007863,
          -69.81362820734566,
          -71.32246459794185,
          -71.02579717252692,
          -68.97262536377784,
          -71.24034030320354,
          -71.56488708926476,
          -71.11122933625686,
          -71.31071647404231,
          -70.0923235121714,
          -71.39275531786367,
          -72.22592465504606,
          -71.79489518890819,
          -70.93785201930723,
          -72.13789071617664,
          -71.62447060775689,
          -71.06135730075967,
          -70.99527250253159,
          -72.14336869916217,
          -69.64340739621467,
          -70.96699953106126,
          -69.57883096234603,
          -71.32620112070394,
          -72.09076975567861,
          -70.74749769705373,
          -71.14064679443185,
          -71.51893026304539,
          -72.54991472296976,
          -68.56571083282766,
          -71.1465427203664,
          -71.40026429510608,
          -71.43247784422046,
          -71.90851257914773,
          -72.30600843154487,
          -71.18990086350638,
          -71.30721005760844,
          -71.75397824195825,
          -71.14202243211514,
          -71.28071679926906,
          -69.97057920151205,
          -70.76060288870006,
          -69.466666635408,
          -71.13959338076714,
          -70.95823123120412,
          -71.62622396089456,
          -71.37698246095536,
          -70.6885699637083,
          -71.47249958407103,
          -70.90316124430227,
          -71.4317416474846,
          -71.32143153890435,
          -70.80808601392944,
          -70.61871420012267,
          -71.8744839514038,
          -72.03067209634338,
          -68.96158972638615,
          -72.25190084904179,
          -71.98835481929474,
          -71.59330663770287,
          -71.32833199584127,
          -72.35340376011263,
          -72.39257384557236,
          -72.02487934427242,
          -71.26465732961931,
          -71.1290373952522,
          -72.14672344794705,
          -70.54573389848284,
          -69.98923845157209,
          -71.439714125558,
          -71.23525826256548,
          -71.97393398688132,
          -71.71081788296775,
          -71.62630950191739,
          -70.92765646037897,
          -71.44084435909961,
          -71.32143153890435,
          -71.52335863004565,
          -71.2557656256918,
          -71.43922989005605,
          -71.53815951657468,
          -70.76139038541008,
          -70.8753251882296,
          -70.53178252331762,
          -71.29449030391027,
          -70.61355802340184,
          -70.7807469707572,
          -71.22967392818933,
          -70.69885513169697,
          -71.63121355673705,
          -71.52809180752858,
          -71.41900241496351,
          -72.3253464333665,
          -71.06116851382288,
          -71.0699380420238,
          -71.58129832673248,
          -71.78788040688987,
          -70.69850755757642,
          -71.1451116456718,
          -71.14064898343393,
          -71.21984441365301,
          -71.24397075191503,
          -70.69663470295289,
          -71.28433615238991,
          -70.00848075136913,
          -70.99970116731184,
          -71.93810907109041,
          -70.99291622287137,
          -70.53074494527127,
          -72.45102466375248,
          -70.52705599498323,
          -71.60516706823459,
          -71.93918037298334,
          -71.70957405994855,
          -70.60567785482728,
          -71.62922811926035,
          -71.33219934043915,
          -71.73632991471165,
          -71.48902261959648,
          -71.21075265853973,
          -71.45177718304366,
          -70.57129884463299,
          -71.35832212911579,
          -70.97909495115394,
          -70.99003806109901,
          -71.39529465423756,
          -70.78244957211179,
          -71.03074585952217,
          -71.32779713893264,
          -71.24553716646311,
          -70.96329066141293,
          -71.68971125628931,
          -71.10784049507228,
          -71.51880194717405,
          -70.29738855528176,
          -70.29738855528176,
          -71.10005520386325,
          -72.30309705181429,
          -70.97212200037004,
          -70.73375348866432,
          -71.73679331878058,
          -70.2604555792481,
          -70.2772704066733,
          -71.98278157381704,
          -72.32519583858075,
          -71.22899140691204,
          -71.56592918003291,
          -70.2104587932256,
          -71.16222786113492,
          -70.69092336901357,
          -71.36092231236711,
          -70.72866516158366,
          -71.12440795998265,
          -71.14445183281778,
          -70.78565810127294,
          -71.60279438437742,
          -70.67914060505494,
          -70.73910623716445,
          -71.09596068340136,
          -71.12440795998265,
          -71.49498256971268,
          -71.3643362962471,
          -70.71650073757606,
          -71.14897493652428,
          -71.268994634293,
          -71.18507221509434,
          -70.26581342278992,
          -71.14702573779978,
          -72.02895768854502,
          -70.87362740022083,
          -71.31506363662695,
          -70.70128757631574,
          -70.53905837983508,
          -72.20031815917766,
          -72.41159542617918,
          -70.78407908079649,
          -70.8656224791946,
          -72.31830594210523,
          -71.1546793241001,
          -72.5284293678696,
          -72.34510001382523,
          -72.20894848407082,
          -71.43897600513084,
          -72.20804910598746,
          -70.73225179736255,
          -72.41561226644146,
          -70.89030716187818,
          -70.71327516818698,
          -70.42412946810391,
          -70.68914268666367,
          -70.95169336118792,
          -72.27038795916796,
          -70.75208273714962,
          -71.1288916167822,
          -70.89336493194456,
          -71.21329150390685,
          -70.88913346406004,
          -70.68848547582795,
          -70.71321435536831,
          -71.34408801215437,
          -71.22589549276744,
          -72.59912796743139,
          -71.57760198233083,
          -70.69292670378444,
          -70.69440202761199,
          -71.31778866273284,
          -71.24593388503772
         ],
         "marker": {
          "color": "fuchsia"
         },
         "mode": "markers",
         "name": "",
         "showlegend": false,
         "subplot": "mapbox",
         "type": "scattermapbox"
        }
       ],
       "layout": {
        "height": 300,
        "legend": {
         "tracegroupgap": 0
        },
        "mapbox": {
         "center": {
          "lat": -32.09223851672674,
          "lon": -71.0026849647862
         },
         "domain": {
          "x": [
           0,
           1
          ],
          "y": [
           0,
           1
          ]
         },
         "style": "open-street-map",
         "zoom": 3
        },
        "margin": {
         "b": 0,
         "l": 0,
         "r": 0,
         "t": 0
        },
        "template": {
         "data": {
          "bar": [
           {
            "error_x": {
             "color": "#2a3f5f"
            },
            "error_y": {
             "color": "#2a3f5f"
            },
            "marker": {
             "line": {
              "color": "#E5ECF6",
              "width": 0.5
             },
             "pattern": {
              "fillmode": "overlay",
              "size": 10,
              "solidity": 0.2
             }
            },
            "type": "bar"
           }
          ],
          "barpolar": [
           {
            "marker": {
             "line": {
              "color": "#E5ECF6",
              "width": 0.5
             },
             "pattern": {
              "fillmode": "overlay",
              "size": 10,
              "solidity": 0.2
             }
            },
            "type": "barpolar"
           }
          ],
          "carpet": [
           {
            "aaxis": {
             "endlinecolor": "#2a3f5f",
             "gridcolor": "white",
             "linecolor": "white",
             "minorgridcolor": "white",
             "startlinecolor": "#2a3f5f"
            },
            "baxis": {
             "endlinecolor": "#2a3f5f",
             "gridcolor": "white",
             "linecolor": "white",
             "minorgridcolor": "white",
             "startlinecolor": "#2a3f5f"
            },
            "type": "carpet"
           }
          ],
          "choropleth": [
           {
            "colorbar": {
             "outlinewidth": 0,
             "ticks": ""
            },
            "type": "choropleth"
           }
          ],
          "contour": [
           {
            "colorbar": {
             "outlinewidth": 0,
             "ticks": ""
            },
            "colorscale": [
             [
              0,
              "#0d0887"
             ],
             [
              0.1111111111111111,
              "#46039f"
             ],
             [
              0.2222222222222222,
              "#7201a8"
             ],
             [
              0.3333333333333333,
              "#9c179e"
             ],
             [
              0.4444444444444444,
              "#bd3786"
             ],
             [
              0.5555555555555556,
              "#d8576b"
             ],
             [
              0.6666666666666666,
              "#ed7953"
             ],
             [
              0.7777777777777778,
              "#fb9f3a"
             ],
             [
              0.8888888888888888,
              "#fdca26"
             ],
             [
              1,
              "#f0f921"
             ]
            ],
            "type": "contour"
           }
          ],
          "contourcarpet": [
           {
            "colorbar": {
             "outlinewidth": 0,
             "ticks": ""
            },
            "type": "contourcarpet"
           }
          ],
          "heatmap": [
           {
            "colorbar": {
             "outlinewidth": 0,
             "ticks": ""
            },
            "colorscale": [
             [
              0,
              "#0d0887"
             ],
             [
              0.1111111111111111,
              "#46039f"
             ],
             [
              0.2222222222222222,
              "#7201a8"
             ],
             [
              0.3333333333333333,
              "#9c179e"
             ],
             [
              0.4444444444444444,
              "#bd3786"
             ],
             [
              0.5555555555555556,
              "#d8576b"
             ],
             [
              0.6666666666666666,
              "#ed7953"
             ],
             [
              0.7777777777777778,
              "#fb9f3a"
             ],
             [
              0.8888888888888888,
              "#fdca26"
             ],
             [
              1,
              "#f0f921"
             ]
            ],
            "type": "heatmap"
           }
          ],
          "heatmapgl": [
           {
            "colorbar": {
             "outlinewidth": 0,
             "ticks": ""
            },
            "colorscale": [
             [
              0,
              "#0d0887"
             ],
             [
              0.1111111111111111,
              "#46039f"
             ],
             [
              0.2222222222222222,
              "#7201a8"
             ],
             [
              0.3333333333333333,
              "#9c179e"
             ],
             [
              0.4444444444444444,
              "#bd3786"
             ],
             [
              0.5555555555555556,
              "#d8576b"
             ],
             [
              0.6666666666666666,
              "#ed7953"
             ],
             [
              0.7777777777777778,
              "#fb9f3a"
             ],
             [
              0.8888888888888888,
              "#fdca26"
             ],
             [
              1,
              "#f0f921"
             ]
            ],
            "type": "heatmapgl"
           }
          ],
          "histogram": [
           {
            "marker": {
             "pattern": {
              "fillmode": "overlay",
              "size": 10,
              "solidity": 0.2
             }
            },
            "type": "histogram"
           }
          ],
          "histogram2d": [
           {
            "colorbar": {
             "outlinewidth": 0,
             "ticks": ""
            },
            "colorscale": [
             [
              0,
              "#0d0887"
             ],
             [
              0.1111111111111111,
              "#46039f"
             ],
             [
              0.2222222222222222,
              "#7201a8"
             ],
             [
              0.3333333333333333,
              "#9c179e"
             ],
             [
              0.4444444444444444,
              "#bd3786"
             ],
             [
              0.5555555555555556,
              "#d8576b"
             ],
             [
              0.6666666666666666,
              "#ed7953"
             ],
             [
              0.7777777777777778,
              "#fb9f3a"
             ],
             [
              0.8888888888888888,
              "#fdca26"
             ],
             [
              1,
              "#f0f921"
             ]
            ],
            "type": "histogram2d"
           }
          ],
          "histogram2dcontour": [
           {
            "colorbar": {
             "outlinewidth": 0,
             "ticks": ""
            },
            "colorscale": [
             [
              0,
              "#0d0887"
             ],
             [
              0.1111111111111111,
              "#46039f"
             ],
             [
              0.2222222222222222,
              "#7201a8"
             ],
             [
              0.3333333333333333,
              "#9c179e"
             ],
             [
              0.4444444444444444,
              "#bd3786"
             ],
             [
              0.5555555555555556,
              "#d8576b"
             ],
             [
              0.6666666666666666,
              "#ed7953"
             ],
             [
              0.7777777777777778,
              "#fb9f3a"
             ],
             [
              0.8888888888888888,
              "#fdca26"
             ],
             [
              1,
              "#f0f921"
             ]
            ],
            "type": "histogram2dcontour"
           }
          ],
          "mesh3d": [
           {
            "colorbar": {
             "outlinewidth": 0,
             "ticks": ""
            },
            "type": "mesh3d"
           }
          ],
          "parcoords": [
           {
            "line": {
             "colorbar": {
              "outlinewidth": 0,
              "ticks": ""
             }
            },
            "type": "parcoords"
           }
          ],
          "pie": [
           {
            "automargin": true,
            "type": "pie"
           }
          ],
          "scatter": [
           {
            "fillpattern": {
             "fillmode": "overlay",
             "size": 10,
             "solidity": 0.2
            },
            "type": "scatter"
           }
          ],
          "scatter3d": [
           {
            "line": {
             "colorbar": {
              "outlinewidth": 0,
              "ticks": ""
             }
            },
            "marker": {
             "colorbar": {
              "outlinewidth": 0,
              "ticks": ""
             }
            },
            "type": "scatter3d"
           }
          ],
          "scattercarpet": [
           {
            "marker": {
             "colorbar": {
              "outlinewidth": 0,
              "ticks": ""
             }
            },
            "type": "scattercarpet"
           }
          ],
          "scattergeo": [
           {
            "marker": {
             "colorbar": {
              "outlinewidth": 0,
              "ticks": ""
             }
            },
            "type": "scattergeo"
           }
          ],
          "scattergl": [
           {
            "marker": {
             "colorbar": {
              "outlinewidth": 0,
              "ticks": ""
             }
            },
            "type": "scattergl"
           }
          ],
          "scattermapbox": [
           {
            "marker": {
             "colorbar": {
              "outlinewidth": 0,
              "ticks": ""
             }
            },
            "type": "scattermapbox"
           }
          ],
          "scatterpolar": [
           {
            "marker": {
             "colorbar": {
              "outlinewidth": 0,
              "ticks": ""
             }
            },
            "type": "scatterpolar"
           }
          ],
          "scatterpolargl": [
           {
            "marker": {
             "colorbar": {
              "outlinewidth": 0,
              "ticks": ""
             }
            },
            "type": "scatterpolargl"
           }
          ],
          "scatterternary": [
           {
            "marker": {
             "colorbar": {
              "outlinewidth": 0,
              "ticks": ""
             }
            },
            "type": "scatterternary"
           }
          ],
          "surface": [
           {
            "colorbar": {
             "outlinewidth": 0,
             "ticks": ""
            },
            "colorscale": [
             [
              0,
              "#0d0887"
             ],
             [
              0.1111111111111111,
              "#46039f"
             ],
             [
              0.2222222222222222,
              "#7201a8"
             ],
             [
              0.3333333333333333,
              "#9c179e"
             ],
             [
              0.4444444444444444,
              "#bd3786"
             ],
             [
              0.5555555555555556,
              "#d8576b"
             ],
             [
              0.6666666666666666,
              "#ed7953"
             ],
             [
              0.7777777777777778,
              "#fb9f3a"
             ],
             [
              0.8888888888888888,
              "#fdca26"
             ],
             [
              1,
              "#f0f921"
             ]
            ],
            "type": "surface"
           }
          ],
          "table": [
           {
            "cells": {
             "fill": {
              "color": "#EBF0F8"
             },
             "line": {
              "color": "white"
             }
            },
            "header": {
             "fill": {
              "color": "#C8D4E3"
             },
             "line": {
              "color": "white"
             }
            },
            "type": "table"
           }
          ]
         },
         "layout": {
          "annotationdefaults": {
           "arrowcolor": "#2a3f5f",
           "arrowhead": 0,
           "arrowwidth": 1
          },
          "autotypenumbers": "strict",
          "coloraxis": {
           "colorbar": {
            "outlinewidth": 0,
            "ticks": ""
           }
          },
          "colorscale": {
           "diverging": [
            [
             0,
             "#8e0152"
            ],
            [
             0.1,
             "#c51b7d"
            ],
            [
             0.2,
             "#de77ae"
            ],
            [
             0.3,
             "#f1b6da"
            ],
            [
             0.4,
             "#fde0ef"
            ],
            [
             0.5,
             "#f7f7f7"
            ],
            [
             0.6,
             "#e6f5d0"
            ],
            [
             0.7,
             "#b8e186"
            ],
            [
             0.8,
             "#7fbc41"
            ],
            [
             0.9,
             "#4d9221"
            ],
            [
             1,
             "#276419"
            ]
           ],
           "sequential": [
            [
             0,
             "#0d0887"
            ],
            [
             0.1111111111111111,
             "#46039f"
            ],
            [
             0.2222222222222222,
             "#7201a8"
            ],
            [
             0.3333333333333333,
             "#9c179e"
            ],
            [
             0.4444444444444444,
             "#bd3786"
            ],
            [
             0.5555555555555556,
             "#d8576b"
            ],
            [
             0.6666666666666666,
             "#ed7953"
            ],
            [
             0.7777777777777778,
             "#fb9f3a"
            ],
            [
             0.8888888888888888,
             "#fdca26"
            ],
            [
             1,
             "#f0f921"
            ]
           ],
           "sequentialminus": [
            [
             0,
             "#0d0887"
            ],
            [
             0.1111111111111111,
             "#46039f"
            ],
            [
             0.2222222222222222,
             "#7201a8"
            ],
            [
             0.3333333333333333,
             "#9c179e"
            ],
            [
             0.4444444444444444,
             "#bd3786"
            ],
            [
             0.5555555555555556,
             "#d8576b"
            ],
            [
             0.6666666666666666,
             "#ed7953"
            ],
            [
             0.7777777777777778,
             "#fb9f3a"
            ],
            [
             0.8888888888888888,
             "#fdca26"
            ],
            [
             1,
             "#f0f921"
            ]
           ]
          },
          "colorway": [
           "#636efa",
           "#EF553B",
           "#00cc96",
           "#ab63fa",
           "#FFA15A",
           "#19d3f3",
           "#FF6692",
           "#B6E880",
           "#FF97FF",
           "#FECB52"
          ],
          "font": {
           "color": "#2a3f5f"
          },
          "geo": {
           "bgcolor": "white",
           "lakecolor": "white",
           "landcolor": "#E5ECF6",
           "showlakes": true,
           "showland": true,
           "subunitcolor": "white"
          },
          "hoverlabel": {
           "align": "left"
          },
          "hovermode": "closest",
          "mapbox": {
           "style": "light"
          },
          "paper_bgcolor": "white",
          "plot_bgcolor": "#E5ECF6",
          "polar": {
           "angularaxis": {
            "gridcolor": "white",
            "linecolor": "white",
            "ticks": ""
           },
           "bgcolor": "#E5ECF6",
           "radialaxis": {
            "gridcolor": "white",
            "linecolor": "white",
            "ticks": ""
           }
          },
          "scene": {
           "xaxis": {
            "backgroundcolor": "#E5ECF6",
            "gridcolor": "white",
            "gridwidth": 2,
            "linecolor": "white",
            "showbackground": true,
            "ticks": "",
            "zerolinecolor": "white"
           },
           "yaxis": {
            "backgroundcolor": "#E5ECF6",
            "gridcolor": "white",
            "gridwidth": 2,
            "linecolor": "white",
            "showbackground": true,
            "ticks": "",
            "zerolinecolor": "white"
           },
           "zaxis": {
            "backgroundcolor": "#E5ECF6",
            "gridcolor": "white",
            "gridwidth": 2,
            "linecolor": "white",
            "showbackground": true,
            "ticks": "",
            "zerolinecolor": "white"
           }
          },
          "shapedefaults": {
           "line": {
            "color": "#2a3f5f"
           }
          },
          "ternary": {
           "aaxis": {
            "gridcolor": "white",
            "linecolor": "white",
            "ticks": ""
           },
           "baxis": {
            "gridcolor": "white",
            "linecolor": "white",
            "ticks": ""
           },
           "bgcolor": "#E5ECF6",
           "caxis": {
            "gridcolor": "white",
            "linecolor": "white",
            "ticks": ""
           }
          },
          "title": {
           "x": 0.05
          },
          "xaxis": {
           "automargin": true,
           "gridcolor": "white",
           "linecolor": "white",
           "ticks": "",
           "title": {
            "standoff": 15
           },
           "zerolinecolor": "white",
           "zerolinewidth": 2
          },
          "yaxis": {
           "automargin": true,
           "gridcolor": "white",
           "linecolor": "white",
           "ticks": "",
           "title": {
            "standoff": 15
           },
           "zerolinecolor": "white",
           "zerolinewidth": 2
          }
         }
        }
       }
      }
     },
     "metadata": {},
     "output_type": "display_data"
    }
   ],
   "source": [
    "# Solar\n",
    "fig = px.scatter_mapbox(df_sol_info, lat=\"Latitud\", lon=\"Longitud\", hover_name=\"Nombre\", hover_data=[\"Nombre\"],\n",
    "                        color_discrete_sequence=[\"fuchsia\"], zoom=3, height=300)\n",
    "fig.update_layout(margin={\"r\":0,\"t\":0,\"l\":0,\"b\":0})\n",
    "fig.update_layout(mapbox_style=\"open-street-map\")"
   ]
  },
  {
   "cell_type": "code",
   "execution_count": 17,
   "metadata": {},
   "outputs": [
    {
     "data": {
      "application/vnd.plotly.v1+json": {
       "config": {
        "plotlyServerURL": "https://plot.ly"
       },
       "data": [
        {
         "customdata": [
          [
           19
          ],
          [
           83
          ],
          [
           118
          ],
          [
           145
          ],
          [
           170
          ],
          [
           223
          ],
          [
           238
          ],
          [
           251
          ],
          [
           268
          ],
          [
           276
          ],
          [
           281
          ],
          [
           282
          ],
          [
           283
          ],
          [
           289
          ],
          [
           295
          ],
          [
           318
          ],
          [
           334
          ],
          [
           342
          ],
          [
           345
          ],
          [
           350
          ],
          [
           360
          ],
          [
           365
          ],
          [
           366
          ],
          [
           406
          ],
          [
           414
          ],
          [
           436
          ],
          [
           454
          ],
          [
           478
          ],
          [
           512
          ],
          [
           516
          ],
          [
           531
          ],
          [
           544
          ],
          [
           594
          ],
          [
           607
          ],
          [
           611
          ],
          [
           621
          ],
          [
           626
          ],
          [
           636
          ],
          [
           1658
          ],
          [
           1667
          ],
          [
           1682
          ],
          [
           1685
          ],
          [
           1690
          ],
          [
           1691
          ],
          [
           1706
          ],
          [
           1707
          ],
          [
           1712
          ],
          [
           1753
          ],
          [
           1757
          ],
          [
           1758
          ],
          [
           1800
          ],
          [
           1815
          ],
          [
           1819
          ],
          [
           1845
          ]
         ],
         "hovertemplate": "<b>%{hovertext}</b><br><br>Latitud=%{lat}<br>Longitud=%{lon}<br>ID=%{customdata[0]}<extra></extra>",
         "hovertext": [
          "PE LEBU",
          "PE CANELA II",
          "PE CANELA",
          "PE MONTE REDONDO",
          "PE TOTORAL",
          "PE PUNTA COLORADA",
          "PE TALINAY ORIENTE",
          "PE CUEL",
          "PE SAN PEDRO",
          "PE EL ARRAYAN",
          "PE UCUQUER II",
          "PE PUNTA PALMERAS",
          "PE TALTAL",
          "PE TALINAY PONIENTE",
          "PMGD PE UCUQUER",
          "PE LOS CURUROS",
          "PMGD PE RAKI",
          "PE RENAICO I",
          "PE LOS BUENOS AIRES",
          "PMGD PE HUAJACHE",
          "PE LA ESPERANZA",
          "PE SAN JUAN",
          "PE SAN PEDRO II",
          "PE VALLE DE LOS VIENTOS",
          "PMGD PE LAS PEÑAS",
          "PMGD PE LEBU III",
          "PE SIERRA GORDA ESTE",
          "PE CABO LEONES",
          "PE AURORA",
          "PE SARCO",
          "PE PUNTA SIERRA",
          "PE SAN GABRIEL",
          "PE EL MAITEN",
          "PMGD PE EL ARREBOL",
          "PE LA FLOR",
          "PMGD PE EL NOGAL",
          "PE TOLPAN SUR",
          "PE CABO LEONES III",
          "PE CABO LEONES II",
          "PE NEGRETE",
          "PE LA ESTRELLA",
          "PE CALAMA",
          "PE ALENA",
          "PE TCHAMMA",
          "PE MALLECO SUR",
          "PE MALLECO NORTE",
          "PE CERRO TIGRE",
          "PE RENAICO II",
          "PE LOS OLMOS",
          "PE MESAMAVIDA",
          "PE LOMAS DE DUQUECO",
          "PE PUELCHE SUR",
          "PE LLANOS DEL  VIENTO",
          "PE CAMPO LINDO"
         ],
         "lat": [
          -37.67932602180234,
          -31.31359860418019,
          -31.28834082754233,
          -31.07732681887795,
          -31.3255996846947,
          -29.36622149643201,
          -30.87339056586366,
          -37.51072407466813,
          -42.27038717708755,
          -30.57927281067436,
          -34.04271849583581,
          -31.2344807026827,
          -25.05947710017139,
          -30.86311382765591,
          -34.04481067797167,
          -31.02994904161384,
          -37.74626721996428,
          -37.72596280642713,
          -37.53926784319557,
          -37.74626109971433,
          -37.60272084508886,
          -28.87100084091725,
          -42.28124387659648,
          -22.48635425148035,
          -37.25849480019463,
          -37.68241612668672,
          -22.87767727012752,
          -28.91992719434934,
          -41.23796306508065,
          -28.85757999148881,
          -31.14010001817887,
          -37.67266932414657,
          -37.26996612878929,
          -37.54044828157831,
          -37.65918193911735,
          -37.58934800928412,
          -37.68537676703907,
          -28.91464238647158,
          -28.99326432169019,
          -37.59989499066615,
          -34.14704394208059,
          -22.48521978887144,
          -37.48526902595735,
          -22.50181991021938,
          -38.01087958021992,
          -38.01087958021992,
          -23.76104419545958,
          -37.72877823471575,
          -37.64310483500412,
          -37.490163,
          -37.52538856619304,
          -41.03285480164401,
          -23.76445116570654,
          -37.40102355819526
         ],
         "legendgroup": "",
         "lon": [
          -73.64401091698423,
          -71.60114389390942,
          -71.60233999981591,
          -71.65782606251824,
          -71.61103429836047,
          -71.05853064960084,
          -71.59145979706672,
          -72.49370801048944,
          -73.94009300542464,
          -71.69805452434946,
          -71.62230841173997,
          -71.6404194624199,
          -69.84846386320723,
          -71.59841799980113,
          -71.61084965967207,
          -71.65710555751393,
          -73.56852261186913,
          -72.58817781708048,
          -72.50766900116068,
          -73.56852795098574,
          -72.5370500013033,
          -71.45714699926427,
          -73.91410100207209,
          -68.8221085762243,
          -73.42027789443617,
          -73.6440311662245,
          -68.97469135350885,
          -71.45158386947399,
          -73.16160274851595,
          -71.42201011634658,
          -71.62280602542447,
          -72.52831818641341,
          -72.5513983164627,
          -73.59225056611939,
          -72.6068562531504,
          -72.41990077122753,
          -72.58602365341179,
          -71.50924755531258,
          -71.44561697457404,
          -72.56936575857944,
          -71.63120282397784,
          -68.80982081998256,
          -72.55602787913311,
          -69.07446494458294,
          -72.26220359262861,
          -72.26220359262861,
          -69.91936238579532,
          -72.59365717666425,
          -72.44035488289956,
          -72.4620369,
          -72.3871797069632,
          -72.99812604619649,
          -70.00235957346665,
          -72.49399299653874
         ],
         "marker": {
          "color": "#636efa"
         },
         "mode": "markers",
         "name": "",
         "showlegend": false,
         "subplot": "mapbox",
         "type": "scattermapbox"
        }
       ],
       "layout": {
        "legend": {
         "tracegroupgap": 0
        },
        "mapbox": {
         "center": {
          "lat": -33.6934201390836,
          "lon": -71.9488526778421
         },
         "domain": {
          "x": [
           0,
           1
          ],
          "y": [
           0,
           1
          ]
         },
         "style": "open-street-map",
         "zoom": 4
        },
        "margin": {
         "b": 0,
         "l": 0,
         "r": 0,
         "t": 0
        },
        "template": {
         "data": {
          "bar": [
           {
            "error_x": {
             "color": "#2a3f5f"
            },
            "error_y": {
             "color": "#2a3f5f"
            },
            "marker": {
             "line": {
              "color": "#E5ECF6",
              "width": 0.5
             },
             "pattern": {
              "fillmode": "overlay",
              "size": 10,
              "solidity": 0.2
             }
            },
            "type": "bar"
           }
          ],
          "barpolar": [
           {
            "marker": {
             "line": {
              "color": "#E5ECF6",
              "width": 0.5
             },
             "pattern": {
              "fillmode": "overlay",
              "size": 10,
              "solidity": 0.2
             }
            },
            "type": "barpolar"
           }
          ],
          "carpet": [
           {
            "aaxis": {
             "endlinecolor": "#2a3f5f",
             "gridcolor": "white",
             "linecolor": "white",
             "minorgridcolor": "white",
             "startlinecolor": "#2a3f5f"
            },
            "baxis": {
             "endlinecolor": "#2a3f5f",
             "gridcolor": "white",
             "linecolor": "white",
             "minorgridcolor": "white",
             "startlinecolor": "#2a3f5f"
            },
            "type": "carpet"
           }
          ],
          "choropleth": [
           {
            "colorbar": {
             "outlinewidth": 0,
             "ticks": ""
            },
            "type": "choropleth"
           }
          ],
          "contour": [
           {
            "colorbar": {
             "outlinewidth": 0,
             "ticks": ""
            },
            "colorscale": [
             [
              0,
              "#0d0887"
             ],
             [
              0.1111111111111111,
              "#46039f"
             ],
             [
              0.2222222222222222,
              "#7201a8"
             ],
             [
              0.3333333333333333,
              "#9c179e"
             ],
             [
              0.4444444444444444,
              "#bd3786"
             ],
             [
              0.5555555555555556,
              "#d8576b"
             ],
             [
              0.6666666666666666,
              "#ed7953"
             ],
             [
              0.7777777777777778,
              "#fb9f3a"
             ],
             [
              0.8888888888888888,
              "#fdca26"
             ],
             [
              1,
              "#f0f921"
             ]
            ],
            "type": "contour"
           }
          ],
          "contourcarpet": [
           {
            "colorbar": {
             "outlinewidth": 0,
             "ticks": ""
            },
            "type": "contourcarpet"
           }
          ],
          "heatmap": [
           {
            "colorbar": {
             "outlinewidth": 0,
             "ticks": ""
            },
            "colorscale": [
             [
              0,
              "#0d0887"
             ],
             [
              0.1111111111111111,
              "#46039f"
             ],
             [
              0.2222222222222222,
              "#7201a8"
             ],
             [
              0.3333333333333333,
              "#9c179e"
             ],
             [
              0.4444444444444444,
              "#bd3786"
             ],
             [
              0.5555555555555556,
              "#d8576b"
             ],
             [
              0.6666666666666666,
              "#ed7953"
             ],
             [
              0.7777777777777778,
              "#fb9f3a"
             ],
             [
              0.8888888888888888,
              "#fdca26"
             ],
             [
              1,
              "#f0f921"
             ]
            ],
            "type": "heatmap"
           }
          ],
          "heatmapgl": [
           {
            "colorbar": {
             "outlinewidth": 0,
             "ticks": ""
            },
            "colorscale": [
             [
              0,
              "#0d0887"
             ],
             [
              0.1111111111111111,
              "#46039f"
             ],
             [
              0.2222222222222222,
              "#7201a8"
             ],
             [
              0.3333333333333333,
              "#9c179e"
             ],
             [
              0.4444444444444444,
              "#bd3786"
             ],
             [
              0.5555555555555556,
              "#d8576b"
             ],
             [
              0.6666666666666666,
              "#ed7953"
             ],
             [
              0.7777777777777778,
              "#fb9f3a"
             ],
             [
              0.8888888888888888,
              "#fdca26"
             ],
             [
              1,
              "#f0f921"
             ]
            ],
            "type": "heatmapgl"
           }
          ],
          "histogram": [
           {
            "marker": {
             "pattern": {
              "fillmode": "overlay",
              "size": 10,
              "solidity": 0.2
             }
            },
            "type": "histogram"
           }
          ],
          "histogram2d": [
           {
            "colorbar": {
             "outlinewidth": 0,
             "ticks": ""
            },
            "colorscale": [
             [
              0,
              "#0d0887"
             ],
             [
              0.1111111111111111,
              "#46039f"
             ],
             [
              0.2222222222222222,
              "#7201a8"
             ],
             [
              0.3333333333333333,
              "#9c179e"
             ],
             [
              0.4444444444444444,
              "#bd3786"
             ],
             [
              0.5555555555555556,
              "#d8576b"
             ],
             [
              0.6666666666666666,
              "#ed7953"
             ],
             [
              0.7777777777777778,
              "#fb9f3a"
             ],
             [
              0.8888888888888888,
              "#fdca26"
             ],
             [
              1,
              "#f0f921"
             ]
            ],
            "type": "histogram2d"
           }
          ],
          "histogram2dcontour": [
           {
            "colorbar": {
             "outlinewidth": 0,
             "ticks": ""
            },
            "colorscale": [
             [
              0,
              "#0d0887"
             ],
             [
              0.1111111111111111,
              "#46039f"
             ],
             [
              0.2222222222222222,
              "#7201a8"
             ],
             [
              0.3333333333333333,
              "#9c179e"
             ],
             [
              0.4444444444444444,
              "#bd3786"
             ],
             [
              0.5555555555555556,
              "#d8576b"
             ],
             [
              0.6666666666666666,
              "#ed7953"
             ],
             [
              0.7777777777777778,
              "#fb9f3a"
             ],
             [
              0.8888888888888888,
              "#fdca26"
             ],
             [
              1,
              "#f0f921"
             ]
            ],
            "type": "histogram2dcontour"
           }
          ],
          "mesh3d": [
           {
            "colorbar": {
             "outlinewidth": 0,
             "ticks": ""
            },
            "type": "mesh3d"
           }
          ],
          "parcoords": [
           {
            "line": {
             "colorbar": {
              "outlinewidth": 0,
              "ticks": ""
             }
            },
            "type": "parcoords"
           }
          ],
          "pie": [
           {
            "automargin": true,
            "type": "pie"
           }
          ],
          "scatter": [
           {
            "fillpattern": {
             "fillmode": "overlay",
             "size": 10,
             "solidity": 0.2
            },
            "type": "scatter"
           }
          ],
          "scatter3d": [
           {
            "line": {
             "colorbar": {
              "outlinewidth": 0,
              "ticks": ""
             }
            },
            "marker": {
             "colorbar": {
              "outlinewidth": 0,
              "ticks": ""
             }
            },
            "type": "scatter3d"
           }
          ],
          "scattercarpet": [
           {
            "marker": {
             "colorbar": {
              "outlinewidth": 0,
              "ticks": ""
             }
            },
            "type": "scattercarpet"
           }
          ],
          "scattergeo": [
           {
            "marker": {
             "colorbar": {
              "outlinewidth": 0,
              "ticks": ""
             }
            },
            "type": "scattergeo"
           }
          ],
          "scattergl": [
           {
            "marker": {
             "colorbar": {
              "outlinewidth": 0,
              "ticks": ""
             }
            },
            "type": "scattergl"
           }
          ],
          "scattermapbox": [
           {
            "marker": {
             "colorbar": {
              "outlinewidth": 0,
              "ticks": ""
             }
            },
            "type": "scattermapbox"
           }
          ],
          "scatterpolar": [
           {
            "marker": {
             "colorbar": {
              "outlinewidth": 0,
              "ticks": ""
             }
            },
            "type": "scatterpolar"
           }
          ],
          "scatterpolargl": [
           {
            "marker": {
             "colorbar": {
              "outlinewidth": 0,
              "ticks": ""
             }
            },
            "type": "scatterpolargl"
           }
          ],
          "scatterternary": [
           {
            "marker": {
             "colorbar": {
              "outlinewidth": 0,
              "ticks": ""
             }
            },
            "type": "scatterternary"
           }
          ],
          "surface": [
           {
            "colorbar": {
             "outlinewidth": 0,
             "ticks": ""
            },
            "colorscale": [
             [
              0,
              "#0d0887"
             ],
             [
              0.1111111111111111,
              "#46039f"
             ],
             [
              0.2222222222222222,
              "#7201a8"
             ],
             [
              0.3333333333333333,
              "#9c179e"
             ],
             [
              0.4444444444444444,
              "#bd3786"
             ],
             [
              0.5555555555555556,
              "#d8576b"
             ],
             [
              0.6666666666666666,
              "#ed7953"
             ],
             [
              0.7777777777777778,
              "#fb9f3a"
             ],
             [
              0.8888888888888888,
              "#fdca26"
             ],
             [
              1,
              "#f0f921"
             ]
            ],
            "type": "surface"
           }
          ],
          "table": [
           {
            "cells": {
             "fill": {
              "color": "#EBF0F8"
             },
             "line": {
              "color": "white"
             }
            },
            "header": {
             "fill": {
              "color": "#C8D4E3"
             },
             "line": {
              "color": "white"
             }
            },
            "type": "table"
           }
          ]
         },
         "layout": {
          "annotationdefaults": {
           "arrowcolor": "#2a3f5f",
           "arrowhead": 0,
           "arrowwidth": 1
          },
          "autotypenumbers": "strict",
          "coloraxis": {
           "colorbar": {
            "outlinewidth": 0,
            "ticks": ""
           }
          },
          "colorscale": {
           "diverging": [
            [
             0,
             "#8e0152"
            ],
            [
             0.1,
             "#c51b7d"
            ],
            [
             0.2,
             "#de77ae"
            ],
            [
             0.3,
             "#f1b6da"
            ],
            [
             0.4,
             "#fde0ef"
            ],
            [
             0.5,
             "#f7f7f7"
            ],
            [
             0.6,
             "#e6f5d0"
            ],
            [
             0.7,
             "#b8e186"
            ],
            [
             0.8,
             "#7fbc41"
            ],
            [
             0.9,
             "#4d9221"
            ],
            [
             1,
             "#276419"
            ]
           ],
           "sequential": [
            [
             0,
             "#0d0887"
            ],
            [
             0.1111111111111111,
             "#46039f"
            ],
            [
             0.2222222222222222,
             "#7201a8"
            ],
            [
             0.3333333333333333,
             "#9c179e"
            ],
            [
             0.4444444444444444,
             "#bd3786"
            ],
            [
             0.5555555555555556,
             "#d8576b"
            ],
            [
             0.6666666666666666,
             "#ed7953"
            ],
            [
             0.7777777777777778,
             "#fb9f3a"
            ],
            [
             0.8888888888888888,
             "#fdca26"
            ],
            [
             1,
             "#f0f921"
            ]
           ],
           "sequentialminus": [
            [
             0,
             "#0d0887"
            ],
            [
             0.1111111111111111,
             "#46039f"
            ],
            [
             0.2222222222222222,
             "#7201a8"
            ],
            [
             0.3333333333333333,
             "#9c179e"
            ],
            [
             0.4444444444444444,
             "#bd3786"
            ],
            [
             0.5555555555555556,
             "#d8576b"
            ],
            [
             0.6666666666666666,
             "#ed7953"
            ],
            [
             0.7777777777777778,
             "#fb9f3a"
            ],
            [
             0.8888888888888888,
             "#fdca26"
            ],
            [
             1,
             "#f0f921"
            ]
           ]
          },
          "colorway": [
           "#636efa",
           "#EF553B",
           "#00cc96",
           "#ab63fa",
           "#FFA15A",
           "#19d3f3",
           "#FF6692",
           "#B6E880",
           "#FF97FF",
           "#FECB52"
          ],
          "font": {
           "color": "#2a3f5f"
          },
          "geo": {
           "bgcolor": "white",
           "lakecolor": "white",
           "landcolor": "#E5ECF6",
           "showlakes": true,
           "showland": true,
           "subunitcolor": "white"
          },
          "hoverlabel": {
           "align": "left"
          },
          "hovermode": "closest",
          "mapbox": {
           "style": "light"
          },
          "paper_bgcolor": "white",
          "plot_bgcolor": "#E5ECF6",
          "polar": {
           "angularaxis": {
            "gridcolor": "white",
            "linecolor": "white",
            "ticks": ""
           },
           "bgcolor": "#E5ECF6",
           "radialaxis": {
            "gridcolor": "white",
            "linecolor": "white",
            "ticks": ""
           }
          },
          "scene": {
           "xaxis": {
            "backgroundcolor": "#E5ECF6",
            "gridcolor": "white",
            "gridwidth": 2,
            "linecolor": "white",
            "showbackground": true,
            "ticks": "",
            "zerolinecolor": "white"
           },
           "yaxis": {
            "backgroundcolor": "#E5ECF6",
            "gridcolor": "white",
            "gridwidth": 2,
            "linecolor": "white",
            "showbackground": true,
            "ticks": "",
            "zerolinecolor": "white"
           },
           "zaxis": {
            "backgroundcolor": "#E5ECF6",
            "gridcolor": "white",
            "gridwidth": 2,
            "linecolor": "white",
            "showbackground": true,
            "ticks": "",
            "zerolinecolor": "white"
           }
          },
          "shapedefaults": {
           "line": {
            "color": "#2a3f5f"
           }
          },
          "ternary": {
           "aaxis": {
            "gridcolor": "white",
            "linecolor": "white",
            "ticks": ""
           },
           "baxis": {
            "gridcolor": "white",
            "linecolor": "white",
            "ticks": ""
           },
           "bgcolor": "#E5ECF6",
           "caxis": {
            "gridcolor": "white",
            "linecolor": "white",
            "ticks": ""
           }
          },
          "title": {
           "x": 0.05
          },
          "xaxis": {
           "automargin": true,
           "gridcolor": "white",
           "linecolor": "white",
           "ticks": "",
           "title": {
            "standoff": 15
           },
           "zerolinecolor": "white",
           "zerolinewidth": 2
          },
          "yaxis": {
           "automargin": true,
           "gridcolor": "white",
           "linecolor": "white",
           "ticks": "",
           "title": {
            "standoff": 15
           },
           "zerolinecolor": "white",
           "zerolinewidth": 2
          }
         }
        }
       }
      }
     },
     "metadata": {},
     "output_type": "display_data"
    }
   ],
   "source": [
    "# Wind\n",
    "fig = px.scatter_mapbox(df_eol_info, \n",
    "                        lat=\"Latitud\", lon=\"Longitud\", \n",
    "                        hover_name=\"Nombre\",\n",
    "                        hover_data=[\"ID\"],\n",
    "                        zoom=4,\n",
    "                        mapbox_style='open-street-map')\n",
    "fig.update_layout(margin={\"r\":0,\"t\":0,\"l\":0,\"b\":0})\n",
    "fig.show()"
   ]
  },
  {
   "cell_type": "code",
   "execution_count": 18,
   "metadata": {},
   "outputs": [
    {
     "data": {
      "application/vnd.plotly.v1+json": {
       "config": {
        "plotlyServerURL": "https://plot.ly"
       },
       "data": [
        {
         "customdata": [
          [
           5
          ],
          [
           6
          ],
          [
           7
          ],
          [
           15
          ],
          [
           16
          ],
          [
           17
          ],
          [
           20
          ],
          [
           21
          ],
          [
           24
          ],
          [
           25
          ],
          [
           26
          ],
          [
           27
          ],
          [
           28
          ],
          [
           29
          ],
          [
           30
          ],
          [
           31
          ],
          [
           32
          ],
          [
           35
          ],
          [
           37
          ],
          [
           52
          ],
          [
           69
          ],
          [
           73
          ],
          [
           74
          ],
          [
           77
          ],
          [
           91
          ],
          [
           100
          ],
          [
           101
          ],
          [
           102
          ],
          [
           103
          ],
          [
           106
          ],
          [
           107
          ],
          [
           108
          ],
          [
           111
          ],
          [
           114
          ],
          [
           115
          ],
          [
           123
          ],
          [
           124
          ],
          [
           125
          ],
          [
           131
          ],
          [
           132
          ],
          [
           134
          ],
          [
           135
          ],
          [
           157
          ],
          [
           158
          ],
          [
           159
          ],
          [
           160
          ],
          [
           162
          ],
          [
           163
          ],
          [
           164
          ],
          [
           165
          ],
          [
           173
          ],
          [
           174
          ],
          [
           179
          ],
          [
           180
          ],
          [
           184
          ],
          [
           191
          ],
          [
           192
          ],
          [
           193
          ],
          [
           205
          ],
          [
           209
          ],
          [
           216
          ],
          [
           217
          ],
          [
           221
          ],
          [
           222
          ],
          [
           229
          ],
          [
           230
          ],
          [
           231
          ],
          [
           234
          ],
          [
           241
          ],
          [
           242
          ],
          [
           243
          ],
          [
           244
          ],
          [
           246
          ],
          [
           257
          ],
          [
           258
          ],
          [
           261
          ],
          [
           262
          ],
          [
           263
          ],
          [
           267
          ],
          [
           270
          ],
          [
           280
          ],
          [
           286
          ],
          [
           287
          ],
          [
           290
          ],
          [
           291
          ],
          [
           292
          ],
          [
           293
          ],
          [
           299
          ],
          [
           300
          ],
          [
           301
          ],
          [
           303
          ],
          [
           304
          ],
          [
           310
          ],
          [
           311
          ],
          [
           312
          ],
          [
           315
          ],
          [
           323
          ],
          [
           324
          ],
          [
           327
          ],
          [
           328
          ],
          [
           335
          ],
          [
           336
          ],
          [
           338
          ],
          [
           341
          ],
          [
           343
          ],
          [
           352
          ],
          [
           361
          ],
          [
           370
          ],
          [
           373
          ],
          [
           380
          ],
          [
           410
          ],
          [
           417
          ],
          [
           419
          ],
          [
           420
          ],
          [
           423
          ],
          [
           432
          ],
          [
           438
          ],
          [
           441
          ],
          [
           458
          ],
          [
           468
          ],
          [
           471
          ],
          [
           472
          ],
          [
           473
          ],
          [
           477
          ],
          [
           482
          ],
          [
           484
          ],
          [
           485
          ],
          [
           486
          ],
          [
           487
          ],
          [
           492
          ],
          [
           493
          ],
          [
           504
          ],
          [
           505
          ],
          [
           509
          ],
          [
           520
          ],
          [
           538
          ],
          [
           542
          ],
          [
           553
          ],
          [
           563
          ],
          [
           569
          ],
          [
           570
          ],
          [
           583
          ],
          [
           613
          ],
          [
           1677
          ],
          [
           1679
          ],
          [
           1697
          ],
          [
           1722
          ],
          [
           1789
          ],
          [
           1792
          ],
          [
           1804
          ],
          [
           1854
          ]
         ],
         "hovertemplate": "<b>%{hovertext}</b><br><br>Latitud=%{lat}<br>Longitud=%{lon}<br>ID=%{customdata[0]}<extra></extra>",
         "hovertext": [
          "HP MARIPOSAS",
          "HP EL RINCON",
          "PMGD HP EYZAGUIRRE",
          "PMGD HP AUXILIAR DEL MAIPO",
          "PMGD HP LOS BAJOS",
          "PMGD HP LOS MORROS",
          "PMGD HP DONGUIL",
          "PMGD HP EL MANZANO (MELIPEUCO)",
          "PMGD HP DOÑA HILDA",
          "PMGD HP PEHUI",
          "PMGD HP SAUCE ANDES",
          "HP JUNCALITO",
          "PMGD HP TRUFULTRUFUL",
          "PMGD HP DONGO",
          "PMGD HP MALLARAUCO",
          "PMGD HP RIO TRUENO",
          "PMGD HP LA PALOMA",
          "PMGD HP EL TARTARO",
          "PMGD HP PUCLARO",
          "PMGD HP LOS CORRALES",
          "HP ALFALFAL",
          "HP MAITENES",
          "HP QUELTEHUES",
          "HP VOLCAN",
          "HP CHIBURGO",
          "HP QUILLECO",
          "HP RUCUE",
          "HP SAN CLEMENTE",
          "HP SAN IGNACIO",
          "HP CAPULLO",
          "HP LICAN",
          "HP PULLINQUE",
          "HP PUNTILLA",
          "HP CARENA",
          "HP ABANICO",
          "HP ISLA",
          "HP LOS MOLLES",
          "HP PALMUCHO",
          "HP SAUZAL",
          "HP SAUZALITO",
          "HP OJOS DE AGUA",
          "HP GUAYACAN",
          "HP BLANCO",
          "HP JUNCAL",
          "HP LOS QUILOS",
          "HP LA CONFLUENCIA",
          "HP LA HIGUERA",
          "HP LIRCAY",
          "HP MAMPIL",
          "HP PEUCHEN",
          "HP CHACABUQUITO",
          "HP COYA",
          "HP CURILLINQUE",
          "HP LOMA ALTA",
          "HP HORNITOS",
          "HP FLORIDA",
          "HP FLORIDA II",
          "HP FLORIDA III",
          "PMGD HP PURISIMA",
          "PMGD HP RECA",
          "HP CHACAYES",
          "PMGD HP EL DIUTO",
          "PMGD HP MUCHI",
          "PMGD HP LA ARENA",
          "HP CALLAO",
          "HP NALCAS",
          "HP RUCATAYO",
          "HP PROVIDENCIA",
          "HP MC1",
          "HP MC2",
          "PMGD HP ROBLERIA",
          "HP RIO HUASCO",
          "HP SAN ANDRES",
          "PMGD HP LOS CORRALES II",
          "HP RENAICO",
          "PMGD HP LAS VERTIENTES",
          "PMGD HP EL LLANO",
          "HP LOS HIERROS",
          "PMGD HP QUILLAILEO",
          "PMGD HP ALLIPEN",
          "PMGD HP PICHILONCO",
          "HP LLAUQUEREO",
          "HP LOS HIERROS II",
          "HP PULELFU",
          "HP ALTO RENAICO",
          "HP LAJA I",
          "HP RIO PICOIQUEN",
          "PMGD HP COLLIL",
          "PMGD HP DON WALTERIO",
          "PMGD HP LAS FLORES",
          "PMGD HP LOS PADRES",
          "PMGD HP MARIA ELENA",
          "PMGD HP EL CANELO",
          "PMGD HP ENSENADA",
          "PMGD HP MAISAN",
          "PMGD HP EL ARRAYAN",
          "HP CARILAFQUEN",
          "HP MALALCAHUELLO",
          "HP EL PASO",
          "HP ITATA",
          "PMGD HP BUREO",
          "PMGD HP TRAILELFU",
          "PMGD HP MUNILQUE",
          "PMGD HP MUNILQUE II",
          "PMGD HP EL MIRADOR",
          "PMGD HP RIO MULCHEN",
          "PMGD HP MOLINERA VILLARRICA",
          "PMGD HP CUMPEO",
          "PMGD HP EL GALPON",
          "HP CHAPIQUIÑA",
          "PMGD HP EL AGRIO",
          "PMGD HP LA MONTAÑA",
          "HP RIO COLORADO",
          "HP LA MINA",
          "PMGD HP EL COLORADO",
          "PMGD HP TRANQUIL",
          "PMGD HP CHANLEUFU II",
          "HP DOS VALLES",
          "PMGD HP LOS PORTONES",
          "PMGD HP CAVANCHA",
          "PMGD HP ALTO HOSPICIO",
          "PMGD HP EL TORO Nº2",
          "PMGD HP SANTA ROSA",
          "HP ANCOA",
          "PMGD HP CALIBORO",
          "PMGD HP LA BIFURCADA",
          "PMGD HP LA VIÑA - ALTO LA VIÑA",
          "PMGD HP MELO",
          "PMGD HP SANTA ISABEL",
          "HP ALFALFAL II",
          "HP LAS LAJAS",
          "HP PALACIOS",
          "PMGD HP ARRAYAN",
          "PMGD HP LA MONTAÑA II",
          "HP EL PINAR",
          "HP CUMBRES",
          "PMGD HP SANTA ELENA",
          "PMGD HP MSA-I",
          "PMGD HP EL BRINCO",
          "HP PALMAR",
          "HP CORRENTOSO",
          "HP CIPRESILLOS",
          "HP MOCHO",
          "HP DIGUA",
          "PMGD HP LA COMPAÑIA II",
          "HP AILLIN",
          "PMGD HP COSAPILLA",
          "PMGD HP CENTRAL EL ATAJO",
          "HP CORRALES",
          "HP MC3",
          "HP PUNTA DEL VIENTO"
         ],
         "lat": [
          -35.59608840637157,
          -33.54805893565191,
          -33.60790084767566,
          -33.64268787661031,
          -33.63540473167603,
          -33.64780261233092,
          -39.12038398178757,
          -38.83694756229377,
          -40.33297498266771,
          -40.55669684799737,
          -32.83520002259642,
          -32.90110288235392,
          -38.84030783407491,
          -42.56791587641626,
          -33.58739386634751,
          -38.600905807969,
          -30.70039086691437,
          -32.56224002246819,
          -29.99614997480177,
          -40.64717283656848,
          -33.5012475556259,
          -33.53070256157176,
          -33.81283979725251,
          -33.82064601297818,
          -35.66167799152631,
          -37.33608299274269,
          -37.36033702544162,
          -35.59813195619717,
          -35.61466235596197,
          -40.81894503119028,
          -40.61800072714188,
          -39.59565795983321,
          -33.61850023545165,
          -33.52856886824257,
          -37.36421598877488,
          -35.80966298757324,
          -30.7444136494963,
          -38.03830366123661,
          -34.25269213538952,
          -34.23559603446824,
          -35.78606701931427,
          -33.60268175891891,
          -32.91704688176585,
          -32.91705509101839,
          -32.86644501564253,
          -34.83346089019036,
          -34.75154005257742,
          -35.53721195909248,
          -37.53642097237965,
          -37.54108798103543,
          -32.85356423989568,
          -34.20492198175691,
          -35.80548696318908,
          -35.79131667679864,
          -32.90028591949195,
          -33.54664151606715,
          -33.54758211262686,
          -33.54792716322121,
          -35.20241937432915,
          -39.78343981894541,
          -34.27555809082592,
          -37.42288980717903,
          -40.31677382962701,
          -41.68125785529241,
          -40.88784499142028,
          -40.8951837462305,
          -40.61913188389821,
          -35.46968754337231,
          -40.91779084257328,
          -40.91779084257328,
          -35.85025385391559,
          -28.67618388242015,
          -34.73465906393485,
          -40.64719679087159,
          -37.81383583748995,
          -33.59271287935101,
          -33.62189702245907,
          -35.85780672870205,
          -37.692959819081,
          -38.99874882553426,
          -40.32898483631814,
          -37.5666888411866,
          -35.83979007573762,
          -40.81000697125723,
          -37.80015531002402,
          -37.24492605956448,
          -37.81404274858188,
          -42.59779387661518,
          -40.55676284798358,
          -40.09887083598463,
          -37.52832782765363,
          -40.77216304237004,
          -38.83960282671428,
          -41.27215019635943,
          -39.11507786741218,
          -40.59813984536913,
          -38.88281802349744,
          -38.88300604061896,
          -34.96439936260897,
          -37.04902299631848,
          -37.59369698580333,
          -39.21585295879925,
          -37.57556898575299,
          -37.57226995265967,
          -37.89580402350092,
          -32.95775103025935,
          -39.2984898267305,
          -35.2457322284869,
          -35.23735685700392,
          -18.3728632402421,
          -38.51414448272791,
          -34.93606136250794,
          -35.83284117982391,
          -35.82844796392439,
          -41.40445696868792,
          -39.74355722932709,
          -40.71495334162582,
          -34.90185887961412,
          -40.33225496828265,
          -20.2370746616443,
          -20.25052395602233,
          -20.22845371284981,
          -20.3010702924289,
          -35.85268100807414,
          -37.31351256902516,
          -37.69149896649371,
          -37.65859166227551,
          -37.2872870162012,
          -37.44065202766774,
          -33.57472013621223,
          -33.5566693838566,
          -34.90234878880185,
          -33.37015832761698,
          -34.93509619398046,
          -37.13358930598159,
          -40.64656175902752,
          -39.09534797315401,
          -39.17164397705055,
          -37.68078032283621,
          -40.78922965930859,
          -40.79194198625154,
          -34.4401524768033,
          -40.6418052267498,
          -36.25660339649139,
          -34.14903806659894,
          -37.56246420960815,
          -18.37562112849292,
          -37.64520577125916,
          -34.74177753324428,
          -40.94793722897925,
          -34.75512640614147
         ],
         "legendgroup": "",
         "lon": [
          -71.26416869972108,
          -70.5430599033457,
          -70.51064703363105,
          -70.6331029980655,
          -70.59482166241443,
          -70.65641815109059,
          -72.6746319848782,
          -71.812991750463,
          -72.00619103521207,
          -72.51614100160873,
          -70.5410900027889,
          -70.2696549984248,
          -71.6607859996918,
          -73.89410700213159,
          -71.00442199808212,
          -72.04726599734835,
          -71.03726599837599,
          -70.69130902176833,
          -70.86389701880655,
          -72.31481300036678,
          -70.19265748898309,
          -70.26178614027,
          -70.21923129151853,
          -70.21482763041236,
          -71.35525622356346,
          -71.95682296141983,
          -71.86565796537836,
          -71.35576697239964,
          -71.5414534999218,
          -72.39992998360843,
          -72.40139981767827,
          -72.21722798946458,
          -70.53515767171751,
          -70.95280299805667,
          -71.48943101037355,
          -70.83546998454669,
          -70.5869389126603,
          -71.47873001606986,
          -70.63094214982117,
          -70.65521602707132,
          -70.80761996302942,
          -70.35966169764747,
          -70.32888999836459,
          -70.32968603686376,
          -70.40783657158828,
          -70.55371243640037,
          -70.71433748142016,
          -71.26126804206308,
          -71.70746302532963,
          -71.59632395739658,
          -70.50610935907974,
          -70.52570555138063,
          -70.94172301953765,
          -70.98185228639277,
          -70.26324429834175,
          -70.54654428162226,
          -70.54535368947877,
          -70.5429381171976,
          -71.18224051773866,
          -72.11592299831497,
          -70.45226666273406,
          -72.08175899771751,
          -72.22726099956299,
          -72.64552000230749,
          -72.33820218578214,
          -72.34006814316704,
          -72.70381544371281,
          -71.27288263109216,
          -72.40364800103902,
          -72.40364800103902,
          -71.28064199827045,
          -70.64508499850459,
          -70.3825410313587,
          -72.31480777383024,
          -72.41554500069584,
          -70.46957299818062,
          -70.53568502667054,
          -71.06389436729133,
          -71.80823300106304,
          -72.22295699936002,
          -72.32262500038088,
          -71.52413999899458,
          -71.07888211620971,
          -72.38528497283889,
          -72.40359824032139,
          -72.53061210033319,
          -72.75389797376238,
          -73.95819500201809,
          -72.51586700160742,
          -72.32574800037207,
          -71.70591800017492,
          -72.4874930326341,
          -71.75716800047448,
          -72.54201336919408,
          -73.06423500259328,
          -72.46473800135136,
          -71.52088604684307,
          -71.52104104859097,
          -70.4197826969019,
          -72.18024703735894,
          -72.47919601853985,
          -72.0461629657062,
          -72.42755797575974,
          -72.43105098583158,
          -71.60958803783714,
          -70.8200860262195,
          -72.22730699943486,
          -71.16097137621699,
          -71.21543999818884,
          -69.54877349700244,
          -71.51925775589687,
          -70.81637266096985,
          -70.9392089645116,
          -70.73964856470141,
          -72.6097969423754,
          -71.96452535341875,
          -72.33741053204615,
          -70.34090899818702,
          -72.23503597436769,
          -70.12731771721505,
          -70.10957792412376,
          -70.05109977321214,
          -70.0685557302009,
          -71.1868189459758,
          -72.04777162148655,
          -72.13002097864471,
          -72.20892324192002,
          -72.12231596316921,
          -72.2970019609548,
          -70.23429795617908,
          -70.29175273969192,
          -70.34122326018252,
          -70.42647129067066,
          -70.84830369323281,
          -71.64209415127473,
          -72.20712046874985,
          -72.0540109466338,
          -72.05858999403077,
          -72.15841872711201,
          -72.31695201979231,
          -72.29295205527454,
          -70.30312195142147,
          -72.25059647270918,
          -71.55266380612865,
          -70.64735062257715,
          -71.45487620684511,
          -69.55857710641716,
          -72.22151225330691,
          -70.40456750824069,
          -72.3549143961963,
          -70.43897807995329
         ],
         "marker": {
          "color": "#636efa"
         },
         "mode": "markers",
         "name": "",
         "showlegend": false,
         "subplot": "mapbox",
         "type": "scattermapbox"
        }
       ],
       "layout": {
        "legend": {
         "tracegroupgap": 0
        },
        "mapbox": {
         "center": {
          "lat": -36.080458528859246,
          "lon": -71.41887007562524
         },
         "domain": {
          "x": [
           0,
           1
          ],
          "y": [
           0,
           1
          ]
         },
         "style": "open-street-map",
         "zoom": 4
        },
        "margin": {
         "b": 0,
         "l": 0,
         "r": 0,
         "t": 0
        },
        "template": {
         "data": {
          "bar": [
           {
            "error_x": {
             "color": "#2a3f5f"
            },
            "error_y": {
             "color": "#2a3f5f"
            },
            "marker": {
             "line": {
              "color": "#E5ECF6",
              "width": 0.5
             },
             "pattern": {
              "fillmode": "overlay",
              "size": 10,
              "solidity": 0.2
             }
            },
            "type": "bar"
           }
          ],
          "barpolar": [
           {
            "marker": {
             "line": {
              "color": "#E5ECF6",
              "width": 0.5
             },
             "pattern": {
              "fillmode": "overlay",
              "size": 10,
              "solidity": 0.2
             }
            },
            "type": "barpolar"
           }
          ],
          "carpet": [
           {
            "aaxis": {
             "endlinecolor": "#2a3f5f",
             "gridcolor": "white",
             "linecolor": "white",
             "minorgridcolor": "white",
             "startlinecolor": "#2a3f5f"
            },
            "baxis": {
             "endlinecolor": "#2a3f5f",
             "gridcolor": "white",
             "linecolor": "white",
             "minorgridcolor": "white",
             "startlinecolor": "#2a3f5f"
            },
            "type": "carpet"
           }
          ],
          "choropleth": [
           {
            "colorbar": {
             "outlinewidth": 0,
             "ticks": ""
            },
            "type": "choropleth"
           }
          ],
          "contour": [
           {
            "colorbar": {
             "outlinewidth": 0,
             "ticks": ""
            },
            "colorscale": [
             [
              0,
              "#0d0887"
             ],
             [
              0.1111111111111111,
              "#46039f"
             ],
             [
              0.2222222222222222,
              "#7201a8"
             ],
             [
              0.3333333333333333,
              "#9c179e"
             ],
             [
              0.4444444444444444,
              "#bd3786"
             ],
             [
              0.5555555555555556,
              "#d8576b"
             ],
             [
              0.6666666666666666,
              "#ed7953"
             ],
             [
              0.7777777777777778,
              "#fb9f3a"
             ],
             [
              0.8888888888888888,
              "#fdca26"
             ],
             [
              1,
              "#f0f921"
             ]
            ],
            "type": "contour"
           }
          ],
          "contourcarpet": [
           {
            "colorbar": {
             "outlinewidth": 0,
             "ticks": ""
            },
            "type": "contourcarpet"
           }
          ],
          "heatmap": [
           {
            "colorbar": {
             "outlinewidth": 0,
             "ticks": ""
            },
            "colorscale": [
             [
              0,
              "#0d0887"
             ],
             [
              0.1111111111111111,
              "#46039f"
             ],
             [
              0.2222222222222222,
              "#7201a8"
             ],
             [
              0.3333333333333333,
              "#9c179e"
             ],
             [
              0.4444444444444444,
              "#bd3786"
             ],
             [
              0.5555555555555556,
              "#d8576b"
             ],
             [
              0.6666666666666666,
              "#ed7953"
             ],
             [
              0.7777777777777778,
              "#fb9f3a"
             ],
             [
              0.8888888888888888,
              "#fdca26"
             ],
             [
              1,
              "#f0f921"
             ]
            ],
            "type": "heatmap"
           }
          ],
          "heatmapgl": [
           {
            "colorbar": {
             "outlinewidth": 0,
             "ticks": ""
            },
            "colorscale": [
             [
              0,
              "#0d0887"
             ],
             [
              0.1111111111111111,
              "#46039f"
             ],
             [
              0.2222222222222222,
              "#7201a8"
             ],
             [
              0.3333333333333333,
              "#9c179e"
             ],
             [
              0.4444444444444444,
              "#bd3786"
             ],
             [
              0.5555555555555556,
              "#d8576b"
             ],
             [
              0.6666666666666666,
              "#ed7953"
             ],
             [
              0.7777777777777778,
              "#fb9f3a"
             ],
             [
              0.8888888888888888,
              "#fdca26"
             ],
             [
              1,
              "#f0f921"
             ]
            ],
            "type": "heatmapgl"
           }
          ],
          "histogram": [
           {
            "marker": {
             "pattern": {
              "fillmode": "overlay",
              "size": 10,
              "solidity": 0.2
             }
            },
            "type": "histogram"
           }
          ],
          "histogram2d": [
           {
            "colorbar": {
             "outlinewidth": 0,
             "ticks": ""
            },
            "colorscale": [
             [
              0,
              "#0d0887"
             ],
             [
              0.1111111111111111,
              "#46039f"
             ],
             [
              0.2222222222222222,
              "#7201a8"
             ],
             [
              0.3333333333333333,
              "#9c179e"
             ],
             [
              0.4444444444444444,
              "#bd3786"
             ],
             [
              0.5555555555555556,
              "#d8576b"
             ],
             [
              0.6666666666666666,
              "#ed7953"
             ],
             [
              0.7777777777777778,
              "#fb9f3a"
             ],
             [
              0.8888888888888888,
              "#fdca26"
             ],
             [
              1,
              "#f0f921"
             ]
            ],
            "type": "histogram2d"
           }
          ],
          "histogram2dcontour": [
           {
            "colorbar": {
             "outlinewidth": 0,
             "ticks": ""
            },
            "colorscale": [
             [
              0,
              "#0d0887"
             ],
             [
              0.1111111111111111,
              "#46039f"
             ],
             [
              0.2222222222222222,
              "#7201a8"
             ],
             [
              0.3333333333333333,
              "#9c179e"
             ],
             [
              0.4444444444444444,
              "#bd3786"
             ],
             [
              0.5555555555555556,
              "#d8576b"
             ],
             [
              0.6666666666666666,
              "#ed7953"
             ],
             [
              0.7777777777777778,
              "#fb9f3a"
             ],
             [
              0.8888888888888888,
              "#fdca26"
             ],
             [
              1,
              "#f0f921"
             ]
            ],
            "type": "histogram2dcontour"
           }
          ],
          "mesh3d": [
           {
            "colorbar": {
             "outlinewidth": 0,
             "ticks": ""
            },
            "type": "mesh3d"
           }
          ],
          "parcoords": [
           {
            "line": {
             "colorbar": {
              "outlinewidth": 0,
              "ticks": ""
             }
            },
            "type": "parcoords"
           }
          ],
          "pie": [
           {
            "automargin": true,
            "type": "pie"
           }
          ],
          "scatter": [
           {
            "fillpattern": {
             "fillmode": "overlay",
             "size": 10,
             "solidity": 0.2
            },
            "type": "scatter"
           }
          ],
          "scatter3d": [
           {
            "line": {
             "colorbar": {
              "outlinewidth": 0,
              "ticks": ""
             }
            },
            "marker": {
             "colorbar": {
              "outlinewidth": 0,
              "ticks": ""
             }
            },
            "type": "scatter3d"
           }
          ],
          "scattercarpet": [
           {
            "marker": {
             "colorbar": {
              "outlinewidth": 0,
              "ticks": ""
             }
            },
            "type": "scattercarpet"
           }
          ],
          "scattergeo": [
           {
            "marker": {
             "colorbar": {
              "outlinewidth": 0,
              "ticks": ""
             }
            },
            "type": "scattergeo"
           }
          ],
          "scattergl": [
           {
            "marker": {
             "colorbar": {
              "outlinewidth": 0,
              "ticks": ""
             }
            },
            "type": "scattergl"
           }
          ],
          "scattermapbox": [
           {
            "marker": {
             "colorbar": {
              "outlinewidth": 0,
              "ticks": ""
             }
            },
            "type": "scattermapbox"
           }
          ],
          "scatterpolar": [
           {
            "marker": {
             "colorbar": {
              "outlinewidth": 0,
              "ticks": ""
             }
            },
            "type": "scatterpolar"
           }
          ],
          "scatterpolargl": [
           {
            "marker": {
             "colorbar": {
              "outlinewidth": 0,
              "ticks": ""
             }
            },
            "type": "scatterpolargl"
           }
          ],
          "scatterternary": [
           {
            "marker": {
             "colorbar": {
              "outlinewidth": 0,
              "ticks": ""
             }
            },
            "type": "scatterternary"
           }
          ],
          "surface": [
           {
            "colorbar": {
             "outlinewidth": 0,
             "ticks": ""
            },
            "colorscale": [
             [
              0,
              "#0d0887"
             ],
             [
              0.1111111111111111,
              "#46039f"
             ],
             [
              0.2222222222222222,
              "#7201a8"
             ],
             [
              0.3333333333333333,
              "#9c179e"
             ],
             [
              0.4444444444444444,
              "#bd3786"
             ],
             [
              0.5555555555555556,
              "#d8576b"
             ],
             [
              0.6666666666666666,
              "#ed7953"
             ],
             [
              0.7777777777777778,
              "#fb9f3a"
             ],
             [
              0.8888888888888888,
              "#fdca26"
             ],
             [
              1,
              "#f0f921"
             ]
            ],
            "type": "surface"
           }
          ],
          "table": [
           {
            "cells": {
             "fill": {
              "color": "#EBF0F8"
             },
             "line": {
              "color": "white"
             }
            },
            "header": {
             "fill": {
              "color": "#C8D4E3"
             },
             "line": {
              "color": "white"
             }
            },
            "type": "table"
           }
          ]
         },
         "layout": {
          "annotationdefaults": {
           "arrowcolor": "#2a3f5f",
           "arrowhead": 0,
           "arrowwidth": 1
          },
          "autotypenumbers": "strict",
          "coloraxis": {
           "colorbar": {
            "outlinewidth": 0,
            "ticks": ""
           }
          },
          "colorscale": {
           "diverging": [
            [
             0,
             "#8e0152"
            ],
            [
             0.1,
             "#c51b7d"
            ],
            [
             0.2,
             "#de77ae"
            ],
            [
             0.3,
             "#f1b6da"
            ],
            [
             0.4,
             "#fde0ef"
            ],
            [
             0.5,
             "#f7f7f7"
            ],
            [
             0.6,
             "#e6f5d0"
            ],
            [
             0.7,
             "#b8e186"
            ],
            [
             0.8,
             "#7fbc41"
            ],
            [
             0.9,
             "#4d9221"
            ],
            [
             1,
             "#276419"
            ]
           ],
           "sequential": [
            [
             0,
             "#0d0887"
            ],
            [
             0.1111111111111111,
             "#46039f"
            ],
            [
             0.2222222222222222,
             "#7201a8"
            ],
            [
             0.3333333333333333,
             "#9c179e"
            ],
            [
             0.4444444444444444,
             "#bd3786"
            ],
            [
             0.5555555555555556,
             "#d8576b"
            ],
            [
             0.6666666666666666,
             "#ed7953"
            ],
            [
             0.7777777777777778,
             "#fb9f3a"
            ],
            [
             0.8888888888888888,
             "#fdca26"
            ],
            [
             1,
             "#f0f921"
            ]
           ],
           "sequentialminus": [
            [
             0,
             "#0d0887"
            ],
            [
             0.1111111111111111,
             "#46039f"
            ],
            [
             0.2222222222222222,
             "#7201a8"
            ],
            [
             0.3333333333333333,
             "#9c179e"
            ],
            [
             0.4444444444444444,
             "#bd3786"
            ],
            [
             0.5555555555555556,
             "#d8576b"
            ],
            [
             0.6666666666666666,
             "#ed7953"
            ],
            [
             0.7777777777777778,
             "#fb9f3a"
            ],
            [
             0.8888888888888888,
             "#fdca26"
            ],
            [
             1,
             "#f0f921"
            ]
           ]
          },
          "colorway": [
           "#636efa",
           "#EF553B",
           "#00cc96",
           "#ab63fa",
           "#FFA15A",
           "#19d3f3",
           "#FF6692",
           "#B6E880",
           "#FF97FF",
           "#FECB52"
          ],
          "font": {
           "color": "#2a3f5f"
          },
          "geo": {
           "bgcolor": "white",
           "lakecolor": "white",
           "landcolor": "#E5ECF6",
           "showlakes": true,
           "showland": true,
           "subunitcolor": "white"
          },
          "hoverlabel": {
           "align": "left"
          },
          "hovermode": "closest",
          "mapbox": {
           "style": "light"
          },
          "paper_bgcolor": "white",
          "plot_bgcolor": "#E5ECF6",
          "polar": {
           "angularaxis": {
            "gridcolor": "white",
            "linecolor": "white",
            "ticks": ""
           },
           "bgcolor": "#E5ECF6",
           "radialaxis": {
            "gridcolor": "white",
            "linecolor": "white",
            "ticks": ""
           }
          },
          "scene": {
           "xaxis": {
            "backgroundcolor": "#E5ECF6",
            "gridcolor": "white",
            "gridwidth": 2,
            "linecolor": "white",
            "showbackground": true,
            "ticks": "",
            "zerolinecolor": "white"
           },
           "yaxis": {
            "backgroundcolor": "#E5ECF6",
            "gridcolor": "white",
            "gridwidth": 2,
            "linecolor": "white",
            "showbackground": true,
            "ticks": "",
            "zerolinecolor": "white"
           },
           "zaxis": {
            "backgroundcolor": "#E5ECF6",
            "gridcolor": "white",
            "gridwidth": 2,
            "linecolor": "white",
            "showbackground": true,
            "ticks": "",
            "zerolinecolor": "white"
           }
          },
          "shapedefaults": {
           "line": {
            "color": "#2a3f5f"
           }
          },
          "ternary": {
           "aaxis": {
            "gridcolor": "white",
            "linecolor": "white",
            "ticks": ""
           },
           "baxis": {
            "gridcolor": "white",
            "linecolor": "white",
            "ticks": ""
           },
           "bgcolor": "#E5ECF6",
           "caxis": {
            "gridcolor": "white",
            "linecolor": "white",
            "ticks": ""
           }
          },
          "title": {
           "x": 0.05
          },
          "xaxis": {
           "automargin": true,
           "gridcolor": "white",
           "linecolor": "white",
           "ticks": "",
           "title": {
            "standoff": 15
           },
           "zerolinecolor": "white",
           "zerolinewidth": 2
          },
          "yaxis": {
           "automargin": true,
           "gridcolor": "white",
           "linecolor": "white",
           "ticks": "",
           "title": {
            "standoff": 15
           },
           "zerolinecolor": "white",
           "zerolinewidth": 2
          }
         }
        }
       }
      }
     },
     "metadata": {},
     "output_type": "display_data"
    }
   ],
   "source": [
    "# Hydro\n",
    "fig = px.scatter_mapbox(df_hid_info, \n",
    "                        lat=\"Latitud\", lon=\"Longitud\", \n",
    "                        hover_name=\"Nombre\",\n",
    "                        hover_data=[\"ID\"],\n",
    "                        zoom=4,\n",
    "                        mapbox_style='open-street-map')\n",
    "fig.update_layout(margin={\"r\":0,\"t\":0,\"l\":0,\"b\":0})\n",
    "fig.show()"
   ]
  }
 ],
 "metadata": {
  "kernelspec": {
   "display_name": "Tesis",
   "language": "python",
   "name": "python3"
  },
  "language_info": {
   "codemirror_mode": {
    "name": "ipython",
    "version": 3
   },
   "file_extension": ".py",
   "mimetype": "text/x-python",
   "name": "python",
   "nbconvert_exporter": "python",
   "pygments_lexer": "ipython3",
   "version": "3.11.4"
  }
 },
 "nbformat": 4,
 "nbformat_minor": 2
}
